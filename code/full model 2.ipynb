{
 "cells": [
  {
   "cell_type": "code",
   "execution_count": 2,
   "id": "0efdb877",
   "metadata": {},
   "outputs": [],
   "source": [
    "import pandas as pd\n",
    "import numpy as np\n",
    "import matplotlib.pyplot as plt\n",
    "import warnings\n",
    "import seaborn as sns\n"
   ]
  },
  {
   "cell_type": "code",
   "execution_count": 3,
   "id": "4a30b504",
   "metadata": {},
   "outputs": [],
   "source": [
    "tips_sample = pd.read_feather(\"../preprocessed_data/tips_sample.feather\")\n",
    "tips_sample = tips_sample.drop(['index'], axis=1)"
   ]
  },
  {
   "cell_type": "code",
   "execution_count": null,
   "id": "a5f246d4",
   "metadata": {},
   "outputs": [],
   "source": [
    "tips_sample.to_csv(\"../preprocessed_data/tips_sample.csv\")"
   ]
  },
  {
   "cell_type": "markdown",
   "id": "75a6e28b",
   "metadata": {},
   "source": [
    "### how much tips will be given in each trip"
   ]
  },
  {
   "cell_type": "code",
   "execution_count": null,
   "id": "3bb29006",
   "metadata": {},
   "outputs": [],
   "source": [
    "\n"
   ]
  },
  {
   "cell_type": "code",
   "execution_count": null,
   "id": "349f7cbd",
   "metadata": {},
   "outputs": [],
   "source": []
  }
 ],
 "metadata": {
  "kernelspec": {
   "display_name": "Python 3",
   "language": "python",
   "name": "python3"
  },
  "language_info": {
   "codemirror_mode": {
    "name": "ipython",
    "version": 3
   },
   "file_extension": ".py",
   "mimetype": "text/x-python",
   "name": "python",
   "nbconvert_exporter": "python",
   "pygments_lexer": "ipython3",
   "version": "3.8.8"
  }
 },
 "nbformat": 4,
 "nbformat_minor": 5
}
