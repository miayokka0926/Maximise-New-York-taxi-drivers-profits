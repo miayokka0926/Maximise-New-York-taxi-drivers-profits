{
 "cells": [
  {
   "cell_type": "markdown",
   "id": "3bc465e3",
   "metadata": {},
   "source": [
    "# External dataset"
   ]
  },
  {
   "cell_type": "raw",
   "id": "8c933995",
   "metadata": {},
   "source": [
    "data source: https://www.ncdc.noaa.gov/\n",
    "period: 2018.1.1 - 2018.9.30\n",
    "\n",
    "SNOW - Snowfall\n",
    "WT01 - Fog, ice fog, or freezing fog (may include heavy fog)\n",
    "TMAX - Maximum temperature\n",
    "WT02 - Heavy fog or heaving freezing fog (not always distinguished from fog)\n",
    "WT03 - Thunder\n",
    "TAVG - Average Temperature.\n",
    "TMIN - Minimum temperature\n",
    "WT04 - Ice pellets, sleet, snow pellets, or small hail\"\n",
    "PRCP - Precipitation\n",
    "WT06 - Glaze or rime\n",
    "WT08 - Smoke or haze\n",
    "SNWD - Snow depth\n",
    "\n"
   ]
  },
  {
   "cell_type": "code",
   "execution_count": 1,
   "id": "fb8048c9",
   "metadata": {},
   "outputs": [],
   "source": [
    "import pandas as pd\n",
    "import numpy as np\n",
    "import matplotlib.pyplot as plt\n",
    "import warnings\n",
    "import seaborn as sns\n",
    "from pandas.tseries.holiday import USFederalHolidayCalendar as calendar"
   ]
  },
  {
   "cell_type": "code",
   "execution_count": 42,
   "id": "0bb7031b",
   "metadata": {},
   "outputs": [
    {
     "data": {
      "text/html": [
       "<div>\n",
       "<style scoped>\n",
       "    .dataframe tbody tr th:only-of-type {\n",
       "        vertical-align: middle;\n",
       "    }\n",
       "\n",
       "    .dataframe tbody tr th {\n",
       "        vertical-align: top;\n",
       "    }\n",
       "\n",
       "    .dataframe thead th {\n",
       "        text-align: right;\n",
       "    }\n",
       "</style>\n",
       "<table border=\"1\" class=\"dataframe\">\n",
       "  <thead>\n",
       "    <tr style=\"text-align: right;\">\n",
       "      <th></th>\n",
       "      <th>DATE</th>\n",
       "      <th>PRCP</th>\n",
       "      <th>SNOW</th>\n",
       "      <th>SNWD</th>\n",
       "      <th>TAVG</th>\n",
       "      <th>TMAX</th>\n",
       "      <th>TMIN</th>\n",
       "      <th>WT01</th>\n",
       "      <th>WT02</th>\n",
       "      <th>WT03</th>\n",
       "      <th>WT04</th>\n",
       "      <th>WT06</th>\n",
       "      <th>WT08</th>\n",
       "    </tr>\n",
       "  </thead>\n",
       "  <tbody>\n",
       "    <tr>\n",
       "      <th>0</th>\n",
       "      <td>2018-01-01</td>\n",
       "      <td>0.00</td>\n",
       "      <td>0.0</td>\n",
       "      <td>0.0</td>\n",
       "      <td>NaN</td>\n",
       "      <td>19</td>\n",
       "      <td>7</td>\n",
       "      <td>NaN</td>\n",
       "      <td>NaN</td>\n",
       "      <td>NaN</td>\n",
       "      <td>NaN</td>\n",
       "      <td>NaN</td>\n",
       "      <td>NaN</td>\n",
       "    </tr>\n",
       "    <tr>\n",
       "      <th>1</th>\n",
       "      <td>2018-01-02</td>\n",
       "      <td>0.00</td>\n",
       "      <td>0.0</td>\n",
       "      <td>0.0</td>\n",
       "      <td>NaN</td>\n",
       "      <td>26</td>\n",
       "      <td>13</td>\n",
       "      <td>NaN</td>\n",
       "      <td>NaN</td>\n",
       "      <td>NaN</td>\n",
       "      <td>NaN</td>\n",
       "      <td>NaN</td>\n",
       "      <td>NaN</td>\n",
       "    </tr>\n",
       "    <tr>\n",
       "      <th>2</th>\n",
       "      <td>2018-01-03</td>\n",
       "      <td>0.00</td>\n",
       "      <td>0.0</td>\n",
       "      <td>0.0</td>\n",
       "      <td>NaN</td>\n",
       "      <td>30</td>\n",
       "      <td>16</td>\n",
       "      <td>NaN</td>\n",
       "      <td>NaN</td>\n",
       "      <td>NaN</td>\n",
       "      <td>NaN</td>\n",
       "      <td>NaN</td>\n",
       "      <td>NaN</td>\n",
       "    </tr>\n",
       "    <tr>\n",
       "      <th>3</th>\n",
       "      <td>2018-01-04</td>\n",
       "      <td>0.76</td>\n",
       "      <td>9.8</td>\n",
       "      <td>1.2</td>\n",
       "      <td>NaN</td>\n",
       "      <td>29</td>\n",
       "      <td>19</td>\n",
       "      <td>1.0</td>\n",
       "      <td>1.0</td>\n",
       "      <td>NaN</td>\n",
       "      <td>NaN</td>\n",
       "      <td>NaN</td>\n",
       "      <td>1.0</td>\n",
       "    </tr>\n",
       "    <tr>\n",
       "      <th>4</th>\n",
       "      <td>2018-01-05</td>\n",
       "      <td>0.00</td>\n",
       "      <td>0.0</td>\n",
       "      <td>7.1</td>\n",
       "      <td>NaN</td>\n",
       "      <td>19</td>\n",
       "      <td>9</td>\n",
       "      <td>NaN</td>\n",
       "      <td>NaN</td>\n",
       "      <td>NaN</td>\n",
       "      <td>NaN</td>\n",
       "      <td>NaN</td>\n",
       "      <td>NaN</td>\n",
       "    </tr>\n",
       "    <tr>\n",
       "      <th>...</th>\n",
       "      <td>...</td>\n",
       "      <td>...</td>\n",
       "      <td>...</td>\n",
       "      <td>...</td>\n",
       "      <td>...</td>\n",
       "      <td>...</td>\n",
       "      <td>...</td>\n",
       "      <td>...</td>\n",
       "      <td>...</td>\n",
       "      <td>...</td>\n",
       "      <td>...</td>\n",
       "      <td>...</td>\n",
       "      <td>...</td>\n",
       "    </tr>\n",
       "    <tr>\n",
       "      <th>268</th>\n",
       "      <td>2018-09-26</td>\n",
       "      <td>0.21</td>\n",
       "      <td>0.0</td>\n",
       "      <td>0.0</td>\n",
       "      <td>NaN</td>\n",
       "      <td>82</td>\n",
       "      <td>69</td>\n",
       "      <td>1.0</td>\n",
       "      <td>NaN</td>\n",
       "      <td>1.0</td>\n",
       "      <td>NaN</td>\n",
       "      <td>NaN</td>\n",
       "      <td>NaN</td>\n",
       "    </tr>\n",
       "    <tr>\n",
       "      <th>269</th>\n",
       "      <td>2018-09-27</td>\n",
       "      <td>0.00</td>\n",
       "      <td>0.0</td>\n",
       "      <td>0.0</td>\n",
       "      <td>NaN</td>\n",
       "      <td>72</td>\n",
       "      <td>61</td>\n",
       "      <td>NaN</td>\n",
       "      <td>NaN</td>\n",
       "      <td>NaN</td>\n",
       "      <td>NaN</td>\n",
       "      <td>NaN</td>\n",
       "      <td>1.0</td>\n",
       "    </tr>\n",
       "    <tr>\n",
       "      <th>270</th>\n",
       "      <td>2018-09-28</td>\n",
       "      <td>0.77</td>\n",
       "      <td>0.0</td>\n",
       "      <td>0.0</td>\n",
       "      <td>NaN</td>\n",
       "      <td>65</td>\n",
       "      <td>56</td>\n",
       "      <td>1.0</td>\n",
       "      <td>NaN</td>\n",
       "      <td>NaN</td>\n",
       "      <td>NaN</td>\n",
       "      <td>NaN</td>\n",
       "      <td>NaN</td>\n",
       "    </tr>\n",
       "    <tr>\n",
       "      <th>271</th>\n",
       "      <td>2018-09-29</td>\n",
       "      <td>0.00</td>\n",
       "      <td>0.0</td>\n",
       "      <td>0.0</td>\n",
       "      <td>NaN</td>\n",
       "      <td>72</td>\n",
       "      <td>58</td>\n",
       "      <td>NaN</td>\n",
       "      <td>NaN</td>\n",
       "      <td>NaN</td>\n",
       "      <td>NaN</td>\n",
       "      <td>NaN</td>\n",
       "      <td>NaN</td>\n",
       "    </tr>\n",
       "    <tr>\n",
       "      <th>272</th>\n",
       "      <td>2018-09-30</td>\n",
       "      <td>0.00</td>\n",
       "      <td>0.0</td>\n",
       "      <td>0.0</td>\n",
       "      <td>NaN</td>\n",
       "      <td>70</td>\n",
       "      <td>54</td>\n",
       "      <td>NaN</td>\n",
       "      <td>NaN</td>\n",
       "      <td>NaN</td>\n",
       "      <td>NaN</td>\n",
       "      <td>NaN</td>\n",
       "      <td>NaN</td>\n",
       "    </tr>\n",
       "  </tbody>\n",
       "</table>\n",
       "<p>273 rows × 13 columns</p>\n",
       "</div>"
      ],
      "text/plain": [
       "           DATE  PRCP  SNOW  SNWD  TAVG  TMAX  TMIN  WT01  WT02  WT03  WT04  \\\n",
       "0    2018-01-01  0.00   0.0   0.0   NaN    19     7   NaN   NaN   NaN   NaN   \n",
       "1    2018-01-02  0.00   0.0   0.0   NaN    26    13   NaN   NaN   NaN   NaN   \n",
       "2    2018-01-03  0.00   0.0   0.0   NaN    30    16   NaN   NaN   NaN   NaN   \n",
       "3    2018-01-04  0.76   9.8   1.2   NaN    29    19   1.0   1.0   NaN   NaN   \n",
       "4    2018-01-05  0.00   0.0   7.1   NaN    19     9   NaN   NaN   NaN   NaN   \n",
       "..          ...   ...   ...   ...   ...   ...   ...   ...   ...   ...   ...   \n",
       "268  2018-09-26  0.21   0.0   0.0   NaN    82    69   1.0   NaN   1.0   NaN   \n",
       "269  2018-09-27  0.00   0.0   0.0   NaN    72    61   NaN   NaN   NaN   NaN   \n",
       "270  2018-09-28  0.77   0.0   0.0   NaN    65    56   1.0   NaN   NaN   NaN   \n",
       "271  2018-09-29  0.00   0.0   0.0   NaN    72    58   NaN   NaN   NaN   NaN   \n",
       "272  2018-09-30  0.00   0.0   0.0   NaN    70    54   NaN   NaN   NaN   NaN   \n",
       "\n",
       "     WT06  WT08  \n",
       "0     NaN   NaN  \n",
       "1     NaN   NaN  \n",
       "2     NaN   NaN  \n",
       "3     NaN   1.0  \n",
       "4     NaN   NaN  \n",
       "..    ...   ...  \n",
       "268   NaN   NaN  \n",
       "269   NaN   1.0  \n",
       "270   NaN   NaN  \n",
       "271   NaN   NaN  \n",
       "272   NaN   NaN  \n",
       "\n",
       "[273 rows x 13 columns]"
      ]
     },
     "execution_count": 42,
     "metadata": {},
     "output_type": "execute_result"
    }
   ],
   "source": [
    "weather = pd.read_csv(\"../preprocessed_data/2676617.csv\")\n",
    "weather = weather.drop(['STATION'], axis = 1)\n",
    "weather"
   ]
  },
  {
   "cell_type": "code",
   "execution_count": 43,
   "id": "d8399168",
   "metadata": {},
   "outputs": [
    {
     "data": {
      "text/html": [
       "<div>\n",
       "<style scoped>\n",
       "    .dataframe tbody tr th:only-of-type {\n",
       "        vertical-align: middle;\n",
       "    }\n",
       "\n",
       "    .dataframe tbody tr th {\n",
       "        vertical-align: top;\n",
       "    }\n",
       "\n",
       "    .dataframe thead th {\n",
       "        text-align: right;\n",
       "    }\n",
       "</style>\n",
       "<table border=\"1\" class=\"dataframe\">\n",
       "  <thead>\n",
       "    <tr style=\"text-align: right;\">\n",
       "      <th></th>\n",
       "      <th>PRCP</th>\n",
       "      <th>SNOW</th>\n",
       "      <th>SNWD</th>\n",
       "      <th>TAVG</th>\n",
       "      <th>Extrem</th>\n",
       "      <th>date</th>\n",
       "    </tr>\n",
       "  </thead>\n",
       "  <tbody>\n",
       "    <tr>\n",
       "      <th>0</th>\n",
       "      <td>0.00</td>\n",
       "      <td>0.0</td>\n",
       "      <td>0.0</td>\n",
       "      <td>-10.555556</td>\n",
       "      <td>False</td>\n",
       "      <td>2018-01-01</td>\n",
       "    </tr>\n",
       "    <tr>\n",
       "      <th>1</th>\n",
       "      <td>0.00</td>\n",
       "      <td>0.0</td>\n",
       "      <td>0.0</td>\n",
       "      <td>-6.944444</td>\n",
       "      <td>False</td>\n",
       "      <td>2018-01-02</td>\n",
       "    </tr>\n",
       "    <tr>\n",
       "      <th>2</th>\n",
       "      <td>0.00</td>\n",
       "      <td>0.0</td>\n",
       "      <td>0.0</td>\n",
       "      <td>-5.000000</td>\n",
       "      <td>False</td>\n",
       "      <td>2018-01-03</td>\n",
       "    </tr>\n",
       "    <tr>\n",
       "      <th>3</th>\n",
       "      <td>0.76</td>\n",
       "      <td>9.8</td>\n",
       "      <td>1.2</td>\n",
       "      <td>-4.444444</td>\n",
       "      <td>True</td>\n",
       "      <td>2018-01-04</td>\n",
       "    </tr>\n",
       "    <tr>\n",
       "      <th>4</th>\n",
       "      <td>0.00</td>\n",
       "      <td>0.0</td>\n",
       "      <td>7.1</td>\n",
       "      <td>-10.000000</td>\n",
       "      <td>False</td>\n",
       "      <td>2018-01-05</td>\n",
       "    </tr>\n",
       "    <tr>\n",
       "      <th>...</th>\n",
       "      <td>...</td>\n",
       "      <td>...</td>\n",
       "      <td>...</td>\n",
       "      <td>...</td>\n",
       "      <td>...</td>\n",
       "      <td>...</td>\n",
       "    </tr>\n",
       "    <tr>\n",
       "      <th>268</th>\n",
       "      <td>0.21</td>\n",
       "      <td>0.0</td>\n",
       "      <td>0.0</td>\n",
       "      <td>24.166667</td>\n",
       "      <td>True</td>\n",
       "      <td>2018-09-26</td>\n",
       "    </tr>\n",
       "    <tr>\n",
       "      <th>269</th>\n",
       "      <td>0.00</td>\n",
       "      <td>0.0</td>\n",
       "      <td>0.0</td>\n",
       "      <td>19.166667</td>\n",
       "      <td>True</td>\n",
       "      <td>2018-09-27</td>\n",
       "    </tr>\n",
       "    <tr>\n",
       "      <th>270</th>\n",
       "      <td>0.77</td>\n",
       "      <td>0.0</td>\n",
       "      <td>0.0</td>\n",
       "      <td>15.833333</td>\n",
       "      <td>True</td>\n",
       "      <td>2018-09-28</td>\n",
       "    </tr>\n",
       "    <tr>\n",
       "      <th>271</th>\n",
       "      <td>0.00</td>\n",
       "      <td>0.0</td>\n",
       "      <td>0.0</td>\n",
       "      <td>18.333333</td>\n",
       "      <td>False</td>\n",
       "      <td>2018-09-29</td>\n",
       "    </tr>\n",
       "    <tr>\n",
       "      <th>272</th>\n",
       "      <td>0.00</td>\n",
       "      <td>0.0</td>\n",
       "      <td>0.0</td>\n",
       "      <td>16.666667</td>\n",
       "      <td>False</td>\n",
       "      <td>2018-09-30</td>\n",
       "    </tr>\n",
       "  </tbody>\n",
       "</table>\n",
       "<p>273 rows × 6 columns</p>\n",
       "</div>"
      ],
      "text/plain": [
       "     PRCP  SNOW  SNWD       TAVG  Extrem       date\n",
       "0    0.00   0.0   0.0 -10.555556   False 2018-01-01\n",
       "1    0.00   0.0   0.0  -6.944444   False 2018-01-02\n",
       "2    0.00   0.0   0.0  -5.000000   False 2018-01-03\n",
       "3    0.76   9.8   1.2  -4.444444    True 2018-01-04\n",
       "4    0.00   0.0   7.1 -10.000000   False 2018-01-05\n",
       "..    ...   ...   ...        ...     ...        ...\n",
       "268  0.21   0.0   0.0  24.166667    True 2018-09-26\n",
       "269  0.00   0.0   0.0  19.166667    True 2018-09-27\n",
       "270  0.77   0.0   0.0  15.833333    True 2018-09-28\n",
       "271  0.00   0.0   0.0  18.333333   False 2018-09-29\n",
       "272  0.00   0.0   0.0  16.666667   False 2018-09-30\n",
       "\n",
       "[273 rows x 6 columns]"
      ]
     },
     "execution_count": 43,
     "metadata": {},
     "output_type": "execute_result"
    }
   ],
   "source": [
    "weather['TAVG'] = (0.5*(weather['TMAX'] + weather['TMIN']) - 32)*5/9\n",
    "weather['Extrem'] = weather[['WT01', 'WT02', 'WT03', 'WT04', 'WT06', 'WT08']].sum(axis=1) > 0\n",
    "weather = weather.drop(['TMAX','TMIN','WT01', 'WT02', 'WT03', 'WT04', 'WT06', 'WT08'], axis=1)\n",
    "weather['date']  = pd.to_datetime(weather['DATE'])\n",
    "weather = weather.drop(['DATE'],axis=1)\n",
    "weather"
   ]
  },
  {
   "cell_type": "code",
   "execution_count": 16,
   "id": "2a6afc2d",
   "metadata": {},
   "outputs": [
    {
     "data": {
      "text/plain": [
       "DATE      0\n",
       "PRCP      0\n",
       "SNOW      0\n",
       "SNWD      0\n",
       "TAVG      0\n",
       "Extrem    0\n",
       "dtype: int64"
      ]
     },
     "execution_count": 16,
     "metadata": {},
     "output_type": "execute_result"
    }
   ],
   "source": [
    "weather.isnull().sum()"
   ]
  },
  {
   "cell_type": "code",
   "execution_count": 27,
   "id": "dfffabf1",
   "metadata": {},
   "outputs": [
    {
     "data": {
      "text/html": [
       "<div>\n",
       "<style scoped>\n",
       "    .dataframe tbody tr th:only-of-type {\n",
       "        vertical-align: middle;\n",
       "    }\n",
       "\n",
       "    .dataframe tbody tr th {\n",
       "        vertical-align: top;\n",
       "    }\n",
       "\n",
       "    .dataframe thead th {\n",
       "        text-align: right;\n",
       "    }\n",
       "</style>\n",
       "<table border=\"1\" class=\"dataframe\">\n",
       "  <thead>\n",
       "    <tr style=\"text-align: right;\">\n",
       "      <th></th>\n",
       "      <th>index</th>\n",
       "      <th>tpep_pickup_datetime</th>\n",
       "      <th>tpep_dropoff_datetime</th>\n",
       "      <th>passenger_count</th>\n",
       "      <th>trip_distance</th>\n",
       "      <th>PULocationID</th>\n",
       "      <th>DOLocationID</th>\n",
       "      <th>payment_type</th>\n",
       "      <th>fare_amount</th>\n",
       "      <th>extra</th>\n",
       "      <th>mta_tax</th>\n",
       "      <th>tip_amount</th>\n",
       "      <th>tolls_amount</th>\n",
       "      <th>total_amount</th>\n",
       "    </tr>\n",
       "  </thead>\n",
       "  <tbody>\n",
       "    <tr>\n",
       "      <th>0</th>\n",
       "      <td>0</td>\n",
       "      <td>2018-07-01 00:28:09</td>\n",
       "      <td>2018-07-01 00:28:51</td>\n",
       "      <td>1</td>\n",
       "      <td>5.30</td>\n",
       "      <td>145</td>\n",
       "      <td>145</td>\n",
       "      <td>2</td>\n",
       "      <td>2.5</td>\n",
       "      <td>0.5</td>\n",
       "      <td>0.5</td>\n",
       "      <td>0.00</td>\n",
       "      <td>0.0</td>\n",
       "      <td>3.80</td>\n",
       "    </tr>\n",
       "    <tr>\n",
       "      <th>1</th>\n",
       "      <td>1</td>\n",
       "      <td>2018-07-01 00:29:27</td>\n",
       "      <td>2018-07-01 00:30:17</td>\n",
       "      <td>1</td>\n",
       "      <td>5.30</td>\n",
       "      <td>145</td>\n",
       "      <td>145</td>\n",
       "      <td>2</td>\n",
       "      <td>2.5</td>\n",
       "      <td>0.5</td>\n",
       "      <td>0.5</td>\n",
       "      <td>0.00</td>\n",
       "      <td>0.0</td>\n",
       "      <td>3.80</td>\n",
       "    </tr>\n",
       "    <tr>\n",
       "      <th>2</th>\n",
       "      <td>2</td>\n",
       "      <td>2018-07-01 00:04:19</td>\n",
       "      <td>2018-07-01 00:08:29</td>\n",
       "      <td>2</td>\n",
       "      <td>0.70</td>\n",
       "      <td>211</td>\n",
       "      <td>144</td>\n",
       "      <td>1</td>\n",
       "      <td>5.0</td>\n",
       "      <td>0.5</td>\n",
       "      <td>0.5</td>\n",
       "      <td>1.25</td>\n",
       "      <td>0.0</td>\n",
       "      <td>7.55</td>\n",
       "    </tr>\n",
       "    <tr>\n",
       "      <th>3</th>\n",
       "      <td>3</td>\n",
       "      <td>2018-07-01 00:14:26</td>\n",
       "      <td>2018-07-01 00:36:35</td>\n",
       "      <td>1</td>\n",
       "      <td>4.80</td>\n",
       "      <td>144</td>\n",
       "      <td>142</td>\n",
       "      <td>1</td>\n",
       "      <td>18.0</td>\n",
       "      <td>0.5</td>\n",
       "      <td>0.5</td>\n",
       "      <td>1.00</td>\n",
       "      <td>0.0</td>\n",
       "      <td>20.30</td>\n",
       "    </tr>\n",
       "    <tr>\n",
       "      <th>4</th>\n",
       "      <td>4</td>\n",
       "      <td>2018-07-01 00:41:56</td>\n",
       "      <td>2018-07-01 00:50:54</td>\n",
       "      <td>1</td>\n",
       "      <td>1.80</td>\n",
       "      <td>142</td>\n",
       "      <td>141</td>\n",
       "      <td>2</td>\n",
       "      <td>8.5</td>\n",
       "      <td>0.5</td>\n",
       "      <td>0.5</td>\n",
       "      <td>0.00</td>\n",
       "      <td>0.0</td>\n",
       "      <td>9.80</td>\n",
       "    </tr>\n",
       "    <tr>\n",
       "      <th>...</th>\n",
       "      <td>...</td>\n",
       "      <td>...</td>\n",
       "      <td>...</td>\n",
       "      <td>...</td>\n",
       "      <td>...</td>\n",
       "      <td>...</td>\n",
       "      <td>...</td>\n",
       "      <td>...</td>\n",
       "      <td>...</td>\n",
       "      <td>...</td>\n",
       "      <td>...</td>\n",
       "      <td>...</td>\n",
       "      <td>...</td>\n",
       "      <td>...</td>\n",
       "    </tr>\n",
       "    <tr>\n",
       "      <th>21594885</th>\n",
       "      <td>21594885</td>\n",
       "      <td>2018-09-30 23:06:44</td>\n",
       "      <td>2018-09-30 23:12:40</td>\n",
       "      <td>1</td>\n",
       "      <td>1.07</td>\n",
       "      <td>239</td>\n",
       "      <td>142</td>\n",
       "      <td>2</td>\n",
       "      <td>6.5</td>\n",
       "      <td>0.5</td>\n",
       "      <td>0.5</td>\n",
       "      <td>0.00</td>\n",
       "      <td>0.0</td>\n",
       "      <td>7.80</td>\n",
       "    </tr>\n",
       "    <tr>\n",
       "      <th>21594886</th>\n",
       "      <td>21594886</td>\n",
       "      <td>2018-09-30 23:15:34</td>\n",
       "      <td>2018-09-30 23:18:31</td>\n",
       "      <td>1</td>\n",
       "      <td>0.75</td>\n",
       "      <td>142</td>\n",
       "      <td>163</td>\n",
       "      <td>1</td>\n",
       "      <td>4.5</td>\n",
       "      <td>0.5</td>\n",
       "      <td>0.5</td>\n",
       "      <td>1.74</td>\n",
       "      <td>0.0</td>\n",
       "      <td>7.54</td>\n",
       "    </tr>\n",
       "    <tr>\n",
       "      <th>21594887</th>\n",
       "      <td>21594887</td>\n",
       "      <td>2018-09-30 23:32:19</td>\n",
       "      <td>2018-09-30 23:41:33</td>\n",
       "      <td>2</td>\n",
       "      <td>2.42</td>\n",
       "      <td>234</td>\n",
       "      <td>161</td>\n",
       "      <td>1</td>\n",
       "      <td>9.5</td>\n",
       "      <td>0.5</td>\n",
       "      <td>0.5</td>\n",
       "      <td>2.16</td>\n",
       "      <td>0.0</td>\n",
       "      <td>12.96</td>\n",
       "    </tr>\n",
       "    <tr>\n",
       "      <th>21594888</th>\n",
       "      <td>21594888</td>\n",
       "      <td>2018-09-30 23:03:59</td>\n",
       "      <td>2018-09-30 23:14:09</td>\n",
       "      <td>1</td>\n",
       "      <td>1.99</td>\n",
       "      <td>262</td>\n",
       "      <td>238</td>\n",
       "      <td>1</td>\n",
       "      <td>9.5</td>\n",
       "      <td>0.5</td>\n",
       "      <td>0.5</td>\n",
       "      <td>0.00</td>\n",
       "      <td>0.0</td>\n",
       "      <td>10.80</td>\n",
       "    </tr>\n",
       "    <tr>\n",
       "      <th>21594889</th>\n",
       "      <td>21594889</td>\n",
       "      <td>2018-09-30 23:53:22</td>\n",
       "      <td>2018-09-30 23:54:33</td>\n",
       "      <td>1</td>\n",
       "      <td>0.48</td>\n",
       "      <td>263</td>\n",
       "      <td>263</td>\n",
       "      <td>2</td>\n",
       "      <td>3.5</td>\n",
       "      <td>0.5</td>\n",
       "      <td>0.5</td>\n",
       "      <td>0.00</td>\n",
       "      <td>0.0</td>\n",
       "      <td>4.80</td>\n",
       "    </tr>\n",
       "  </tbody>\n",
       "</table>\n",
       "<p>21594890 rows × 14 columns</p>\n",
       "</div>"
      ],
      "text/plain": [
       "             index tpep_pickup_datetime tpep_dropoff_datetime  \\\n",
       "0                0  2018-07-01 00:28:09   2018-07-01 00:28:51   \n",
       "1                1  2018-07-01 00:29:27   2018-07-01 00:30:17   \n",
       "2                2  2018-07-01 00:04:19   2018-07-01 00:08:29   \n",
       "3                3  2018-07-01 00:14:26   2018-07-01 00:36:35   \n",
       "4                4  2018-07-01 00:41:56   2018-07-01 00:50:54   \n",
       "...            ...                  ...                   ...   \n",
       "21594885  21594885  2018-09-30 23:06:44   2018-09-30 23:12:40   \n",
       "21594886  21594886  2018-09-30 23:15:34   2018-09-30 23:18:31   \n",
       "21594887  21594887  2018-09-30 23:32:19   2018-09-30 23:41:33   \n",
       "21594888  21594888  2018-09-30 23:03:59   2018-09-30 23:14:09   \n",
       "21594889  21594889  2018-09-30 23:53:22   2018-09-30 23:54:33   \n",
       "\n",
       "          passenger_count  trip_distance  PULocationID  DOLocationID  \\\n",
       "0                       1           5.30           145           145   \n",
       "1                       1           5.30           145           145   \n",
       "2                       2           0.70           211           144   \n",
       "3                       1           4.80           144           142   \n",
       "4                       1           1.80           142           141   \n",
       "...                   ...            ...           ...           ...   \n",
       "21594885                1           1.07           239           142   \n",
       "21594886                1           0.75           142           163   \n",
       "21594887                2           2.42           234           161   \n",
       "21594888                1           1.99           262           238   \n",
       "21594889                1           0.48           263           263   \n",
       "\n",
       "          payment_type  fare_amount  extra  mta_tax  tip_amount  tolls_amount  \\\n",
       "0                    2          2.5    0.5      0.5        0.00           0.0   \n",
       "1                    2          2.5    0.5      0.5        0.00           0.0   \n",
       "2                    1          5.0    0.5      0.5        1.25           0.0   \n",
       "3                    1         18.0    0.5      0.5        1.00           0.0   \n",
       "4                    2          8.5    0.5      0.5        0.00           0.0   \n",
       "...                ...          ...    ...      ...         ...           ...   \n",
       "21594885             2          6.5    0.5      0.5        0.00           0.0   \n",
       "21594886             1          4.5    0.5      0.5        1.74           0.0   \n",
       "21594887             1          9.5    0.5      0.5        2.16           0.0   \n",
       "21594888             1          9.5    0.5      0.5        0.00           0.0   \n",
       "21594889             2          3.5    0.5      0.5        0.00           0.0   \n",
       "\n",
       "          total_amount  \n",
       "0                 3.80  \n",
       "1                 3.80  \n",
       "2                 7.55  \n",
       "3                20.30  \n",
       "4                 9.80  \n",
       "...                ...  \n",
       "21594885          7.80  \n",
       "21594886          7.54  \n",
       "21594887         12.96  \n",
       "21594888         10.80  \n",
       "21594889          4.80  \n",
       "\n",
       "[21594890 rows x 14 columns]"
      ]
     },
     "execution_count": 27,
     "metadata": {},
     "output_type": "execute_result"
    }
   ],
   "source": [
    "y_s1 = pd.read_feather('../preprocessed_data/y_s1.feather')\n",
    "y_s2 = pd.read_feather('../preprocessed_data/y_s2.feather')\n",
    "y_s3 = pd.read_feather('../preprocessed_data/y_s3.feather')\n",
    "y_s3"
   ]
  },
  {
   "cell_type": "code",
   "execution_count": 28,
   "id": "a44208f2",
   "metadata": {},
   "outputs": [],
   "source": [
    "y_s1['tpep_pickup_datetime'] = pd.to_datetime(y_s1['tpep_pickup_datetime'])\n",
    "y_s2['tpep_pickup_datetime'] = pd.to_datetime(y_s2['tpep_pickup_datetime'])\n",
    "y_s3['tpep_pickup_datetime'] = pd.to_datetime(y_s3['tpep_pickup_datetime'])\n",
    "y_s1['tpep_dropoff_datetime'] = pd.to_datetime(y_s1['tpep_dropoff_datetime'])\n",
    "y_s2['tpep_dropoff_datetime'] = pd.to_datetime(y_s2['tpep_dropoff_datetime'])\n",
    "y_s3['tpep_dropoff_datetime'] = pd.to_datetime(y_s3['tpep_dropoff_datetime'])\n",
    "\n",
    "y_s1['date'] = y_s1['tpep_pickup_datetime'].dt.normalize()\n",
    "y_s2['date'] = y_s2['tpep_pickup_datetime'].dt.normalize()\n",
    "y_s3['date'] = y_s3['tpep_pickup_datetime'].dt.normalize()\n",
    "\n"
   ]
  },
  {
   "cell_type": "code",
   "execution_count": 32,
   "id": "fe0e84f7",
   "metadata": {},
   "outputs": [],
   "source": [
    "cal = calendar()\n",
    "holidays = cal.holidays(start=\"2018-01-01\", end=\"2018-09-30\")\n",
    "y_s1['holiday'] = y_s1['date'].isin(holidays)\n",
    "y_s2['holiday'] = y_s2['date'].isin(holidays)\n",
    "y_s3['holiday'] = y_s3['date'].isin(holidays)\n"
   ]
  },
  {
   "cell_type": "code",
   "execution_count": 45,
   "id": "8224ba1f",
   "metadata": {},
   "outputs": [],
   "source": [
    "full_s1 = y_s1.merge(weather, on='date')\n",
    "full_s2 = y_s2.merge(weather, on='date')\n",
    "full_s3 = y_s3.merge(weather, on='date')\n"
   ]
  },
  {
   "cell_type": "code",
   "execution_count": 52,
   "id": "667f5842",
   "metadata": {},
   "outputs": [],
   "source": [
    "sample1 = full_s1.sample(frac =.1)\n",
    "sample2 = full_s2.sample(frac =.1)\n",
    "sample3 = full_s3.sample(frac =.1)\n",
    "sample = pd.concat([sample1, sample2, sample3])\n",
    "sample = sample.drop(['index'],axis=1)\n",
    "# sample is for describing the whole dateset feature"
   ]
  },
  {
   "cell_type": "code",
   "execution_count": 26,
   "id": "e7c6e606",
   "metadata": {},
   "outputs": [
    {
     "name": "stderr",
     "output_type": "stream",
     "text": [
      "<ipython-input-26-bf0ee934f0d8>:1: SettingWithCopyWarning: \n",
      "A value is trying to be set on a copy of a slice from a DataFrame.\n",
      "Try using .loc[row_indexer,col_indexer] = value instead\n",
      "\n",
      "See the caveats in the documentation: https://pandas.pydata.org/pandas-docs/stable/user_guide/indexing.html#returning-a-view-versus-a-copy\n",
      "  tips_sample['tolls_amount']= (tips_sample['tolls_amount'] > 0)\n",
      "<ipython-input-26-bf0ee934f0d8>:2: SettingWithCopyWarning: \n",
      "A value is trying to be set on a copy of a slice from a DataFrame.\n",
      "Try using .loc[row_indexer,col_indexer] = value instead\n",
      "\n",
      "See the caveats in the documentation: https://pandas.pydata.org/pandas-docs/stable/user_guide/indexing.html#returning-a-view-versus-a-copy\n",
      "  tips_sample['PRCP']= (sample['PRCP'] > 0)\n",
      "<ipython-input-26-bf0ee934f0d8>:3: SettingWithCopyWarning: \n",
      "A value is trying to be set on a copy of a slice from a DataFrame.\n",
      "Try using .loc[row_indexer,col_indexer] = value instead\n",
      "\n",
      "See the caveats in the documentation: https://pandas.pydata.org/pandas-docs/stable/user_guide/indexing.html#returning-a-view-versus-a-copy\n",
      "  tips_sample['SNOW']= (sample['SNOW'] > 0)\n",
      "<ipython-input-26-bf0ee934f0d8>:4: SettingWithCopyWarning: \n",
      "A value is trying to be set on a copy of a slice from a DataFrame.\n",
      "Try using .loc[row_indexer,col_indexer] = value instead\n",
      "\n",
      "See the caveats in the documentation: https://pandas.pydata.org/pandas-docs/stable/user_guide/indexing.html#returning-a-view-versus-a-copy\n",
      "  tips_sample['SNWD']= (sample['SNWD'] > 0)\n",
      "<ipython-input-26-bf0ee934f0d8>:5: SettingWithCopyWarning: \n",
      "A value is trying to be set on a copy of a slice from a DataFrame.\n",
      "Try using .loc[row_indexer,col_indexer] = value instead\n",
      "\n",
      "See the caveats in the documentation: https://pandas.pydata.org/pandas-docs/stable/user_guide/indexing.html#returning-a-view-versus-a-copy\n",
      "  tips_sample['weekday']= (sample['weekday'] == 0.0)\n"
     ]
    },
    {
     "data": {
      "text/html": [
       "<div>\n",
       "<style scoped>\n",
       "    .dataframe tbody tr th:only-of-type {\n",
       "        vertical-align: middle;\n",
       "    }\n",
       "\n",
       "    .dataframe tbody tr th {\n",
       "        vertical-align: top;\n",
       "    }\n",
       "\n",
       "    .dataframe thead th {\n",
       "        text-align: right;\n",
       "    }\n",
       "</style>\n",
       "<table border=\"1\" class=\"dataframe\">\n",
       "  <thead>\n",
       "    <tr style=\"text-align: right;\">\n",
       "      <th></th>\n",
       "      <th>passenger_count</th>\n",
       "      <th>trip_distance</th>\n",
       "      <th>PULocationID</th>\n",
       "      <th>DOLocationID</th>\n",
       "      <th>payment_type</th>\n",
       "      <th>fare_amount</th>\n",
       "      <th>tip_amount</th>\n",
       "      <th>tolls_amount</th>\n",
       "      <th>total_amount</th>\n",
       "      <th>date</th>\n",
       "      <th>holiday</th>\n",
       "      <th>PRCP</th>\n",
       "      <th>SNOW</th>\n",
       "      <th>SNWD</th>\n",
       "      <th>TAVG</th>\n",
       "      <th>Extrem</th>\n",
       "      <th>weekday</th>\n",
       "      <th>time_hr</th>\n",
       "    </tr>\n",
       "  </thead>\n",
       "  <tbody>\n",
       "    <tr>\n",
       "      <th>1</th>\n",
       "      <td>1</td>\n",
       "      <td>1.97</td>\n",
       "      <td>239</td>\n",
       "      <td>236</td>\n",
       "      <td>1</td>\n",
       "      <td>10.0</td>\n",
       "      <td>2.70</td>\n",
       "      <td>False</td>\n",
       "      <td>13.50</td>\n",
       "      <td>2018-02-06</td>\n",
       "      <td>False</td>\n",
       "      <td>False</td>\n",
       "      <td>False</td>\n",
       "      <td>False</td>\n",
       "      <td>-0.277778</td>\n",
       "      <td>False</td>\n",
       "      <td>True</td>\n",
       "      <td>09</td>\n",
       "    </tr>\n",
       "    <tr>\n",
       "      <th>2</th>\n",
       "      <td>1</td>\n",
       "      <td>1.10</td>\n",
       "      <td>237</td>\n",
       "      <td>262</td>\n",
       "      <td>1</td>\n",
       "      <td>7.0</td>\n",
       "      <td>1.55</td>\n",
       "      <td>False</td>\n",
       "      <td>9.35</td>\n",
       "      <td>2018-02-22</td>\n",
       "      <td>False</td>\n",
       "      <td>True</td>\n",
       "      <td>False</td>\n",
       "      <td>False</td>\n",
       "      <td>8.888889</td>\n",
       "      <td>True</td>\n",
       "      <td>True</td>\n",
       "      <td>13</td>\n",
       "    </tr>\n",
       "    <tr>\n",
       "      <th>3</th>\n",
       "      <td>4</td>\n",
       "      <td>5.54</td>\n",
       "      <td>170</td>\n",
       "      <td>261</td>\n",
       "      <td>1</td>\n",
       "      <td>21.0</td>\n",
       "      <td>4.36</td>\n",
       "      <td>False</td>\n",
       "      <td>26.16</td>\n",
       "      <td>2018-02-08</td>\n",
       "      <td>False</td>\n",
       "      <td>False</td>\n",
       "      <td>False</td>\n",
       "      <td>False</td>\n",
       "      <td>-1.666667</td>\n",
       "      <td>False</td>\n",
       "      <td>True</td>\n",
       "      <td>09</td>\n",
       "    </tr>\n",
       "    <tr>\n",
       "      <th>4</th>\n",
       "      <td>1</td>\n",
       "      <td>6.00</td>\n",
       "      <td>137</td>\n",
       "      <td>168</td>\n",
       "      <td>1</td>\n",
       "      <td>18.0</td>\n",
       "      <td>1.00</td>\n",
       "      <td>False</td>\n",
       "      <td>19.80</td>\n",
       "      <td>2018-03-21</td>\n",
       "      <td>False</td>\n",
       "      <td>True</td>\n",
       "      <td>True</td>\n",
       "      <td>False</td>\n",
       "      <td>1.666667</td>\n",
       "      <td>True</td>\n",
       "      <td>True</td>\n",
       "      <td>08</td>\n",
       "    </tr>\n",
       "    <tr>\n",
       "      <th>6</th>\n",
       "      <td>1</td>\n",
       "      <td>1.70</td>\n",
       "      <td>161</td>\n",
       "      <td>236</td>\n",
       "      <td>1</td>\n",
       "      <td>7.0</td>\n",
       "      <td>1.65</td>\n",
       "      <td>False</td>\n",
       "      <td>9.95</td>\n",
       "      <td>2018-01-31</td>\n",
       "      <td>False</td>\n",
       "      <td>False</td>\n",
       "      <td>False</td>\n",
       "      <td>False</td>\n",
       "      <td>-3.611111</td>\n",
       "      <td>True</td>\n",
       "      <td>True</td>\n",
       "      <td>01</td>\n",
       "    </tr>\n",
       "    <tr>\n",
       "      <th>...</th>\n",
       "      <td>...</td>\n",
       "      <td>...</td>\n",
       "      <td>...</td>\n",
       "      <td>...</td>\n",
       "      <td>...</td>\n",
       "      <td>...</td>\n",
       "      <td>...</td>\n",
       "      <td>...</td>\n",
       "      <td>...</td>\n",
       "      <td>...</td>\n",
       "      <td>...</td>\n",
       "      <td>...</td>\n",
       "      <td>...</td>\n",
       "      <td>...</td>\n",
       "      <td>...</td>\n",
       "      <td>...</td>\n",
       "      <td>...</td>\n",
       "      <td>...</td>\n",
       "    </tr>\n",
       "    <tr>\n",
       "      <th>7096481</th>\n",
       "      <td>1</td>\n",
       "      <td>2.00</td>\n",
       "      <td>236</td>\n",
       "      <td>143</td>\n",
       "      <td>1</td>\n",
       "      <td>11.0</td>\n",
       "      <td>2.35</td>\n",
       "      <td>False</td>\n",
       "      <td>14.15</td>\n",
       "      <td>2018-07-30</td>\n",
       "      <td>False</td>\n",
       "      <td>True</td>\n",
       "      <td>False</td>\n",
       "      <td>False</td>\n",
       "      <td>22.777778</td>\n",
       "      <td>True</td>\n",
       "      <td>True</td>\n",
       "      <td>13</td>\n",
       "    </tr>\n",
       "    <tr>\n",
       "      <th>7096482</th>\n",
       "      <td>1</td>\n",
       "      <td>2.23</td>\n",
       "      <td>168</td>\n",
       "      <td>263</td>\n",
       "      <td>1</td>\n",
       "      <td>10.5</td>\n",
       "      <td>2.26</td>\n",
       "      <td>False</td>\n",
       "      <td>13.56</td>\n",
       "      <td>2018-08-25</td>\n",
       "      <td>False</td>\n",
       "      <td>False</td>\n",
       "      <td>False</td>\n",
       "      <td>False</td>\n",
       "      <td>23.333333</td>\n",
       "      <td>False</td>\n",
       "      <td>False</td>\n",
       "      <td>10</td>\n",
       "    </tr>\n",
       "    <tr>\n",
       "      <th>7096483</th>\n",
       "      <td>1</td>\n",
       "      <td>7.60</td>\n",
       "      <td>114</td>\n",
       "      <td>74</td>\n",
       "      <td>1</td>\n",
       "      <td>27.0</td>\n",
       "      <td>2.00</td>\n",
       "      <td>False</td>\n",
       "      <td>30.30</td>\n",
       "      <td>2018-07-12</td>\n",
       "      <td>False</td>\n",
       "      <td>True</td>\n",
       "      <td>False</td>\n",
       "      <td>False</td>\n",
       "      <td>23.333333</td>\n",
       "      <td>True</td>\n",
       "      <td>True</td>\n",
       "      <td>21</td>\n",
       "    </tr>\n",
       "    <tr>\n",
       "      <th>7096485</th>\n",
       "      <td>1</td>\n",
       "      <td>1.20</td>\n",
       "      <td>162</td>\n",
       "      <td>107</td>\n",
       "      <td>1</td>\n",
       "      <td>6.5</td>\n",
       "      <td>1.40</td>\n",
       "      <td>False</td>\n",
       "      <td>9.20</td>\n",
       "      <td>2018-07-07</td>\n",
       "      <td>False</td>\n",
       "      <td>False</td>\n",
       "      <td>False</td>\n",
       "      <td>False</td>\n",
       "      <td>21.111111</td>\n",
       "      <td>False</td>\n",
       "      <td>False</td>\n",
       "      <td>23</td>\n",
       "    </tr>\n",
       "    <tr>\n",
       "      <th>7096486</th>\n",
       "      <td>1</td>\n",
       "      <td>3.20</td>\n",
       "      <td>263</td>\n",
       "      <td>137</td>\n",
       "      <td>1</td>\n",
       "      <td>17.5</td>\n",
       "      <td>3.85</td>\n",
       "      <td>False</td>\n",
       "      <td>23.15</td>\n",
       "      <td>2018-09-21</td>\n",
       "      <td>False</td>\n",
       "      <td>False</td>\n",
       "      <td>False</td>\n",
       "      <td>False</td>\n",
       "      <td>20.833333</td>\n",
       "      <td>False</td>\n",
       "      <td>True</td>\n",
       "      <td>18</td>\n",
       "    </tr>\n",
       "  </tbody>\n",
       "</table>\n",
       "<p>4914233 rows × 18 columns</p>\n",
       "</div>"
      ],
      "text/plain": [
       "         passenger_count  trip_distance  PULocationID  DOLocationID  \\\n",
       "1                      1           1.97           239           236   \n",
       "2                      1           1.10           237           262   \n",
       "3                      4           5.54           170           261   \n",
       "4                      1           6.00           137           168   \n",
       "6                      1           1.70           161           236   \n",
       "...                  ...            ...           ...           ...   \n",
       "7096481                1           2.00           236           143   \n",
       "7096482                1           2.23           168           263   \n",
       "7096483                1           7.60           114            74   \n",
       "7096485                1           1.20           162           107   \n",
       "7096486                1           3.20           263           137   \n",
       "\n",
       "         payment_type  fare_amount  tip_amount  tolls_amount  total_amount  \\\n",
       "1                   1         10.0        2.70         False         13.50   \n",
       "2                   1          7.0        1.55         False          9.35   \n",
       "3                   1         21.0        4.36         False         26.16   \n",
       "4                   1         18.0        1.00         False         19.80   \n",
       "6                   1          7.0        1.65         False          9.95   \n",
       "...               ...          ...         ...           ...           ...   \n",
       "7096481             1         11.0        2.35         False         14.15   \n",
       "7096482             1         10.5        2.26         False         13.56   \n",
       "7096483             1         27.0        2.00         False         30.30   \n",
       "7096485             1          6.5        1.40         False          9.20   \n",
       "7096486             1         17.5        3.85         False         23.15   \n",
       "\n",
       "              date  holiday   PRCP   SNOW   SNWD       TAVG  Extrem  weekday  \\\n",
       "1       2018-02-06    False  False  False  False  -0.277778   False     True   \n",
       "2       2018-02-22    False   True  False  False   8.888889    True     True   \n",
       "3       2018-02-08    False  False  False  False  -1.666667   False     True   \n",
       "4       2018-03-21    False   True   True  False   1.666667    True     True   \n",
       "6       2018-01-31    False  False  False  False  -3.611111    True     True   \n",
       "...            ...      ...    ...    ...    ...        ...     ...      ...   \n",
       "7096481 2018-07-30    False   True  False  False  22.777778    True     True   \n",
       "7096482 2018-08-25    False  False  False  False  23.333333   False    False   \n",
       "7096483 2018-07-12    False   True  False  False  23.333333    True     True   \n",
       "7096485 2018-07-07    False  False  False  False  21.111111   False    False   \n",
       "7096486 2018-09-21    False  False  False  False  20.833333   False     True   \n",
       "\n",
       "        time_hr  \n",
       "1            09  \n",
       "2            13  \n",
       "3            09  \n",
       "4            08  \n",
       "6            01  \n",
       "...         ...  \n",
       "7096481      13  \n",
       "7096482      10  \n",
       "7096483      21  \n",
       "7096485      23  \n",
       "7096486      18  \n",
       "\n",
       "[4914233 rows x 18 columns]"
      ]
     },
     "execution_count": 26,
     "metadata": {},
     "output_type": "execute_result"
    }
   ],
   "source": [
    "tips_sample['tolls_amount']= (tips_sample['tolls_amount'] > 0)\n",
    "tips_sample['PRCP']= (sample['PRCP'] > 0)\n",
    "tips_sample['SNOW']= (sample['SNOW'] > 0)\n",
    "tips_sample['SNWD']= (sample['SNWD'] > 0)\n",
    "tips_sample['weekday']= (sample['weekday'] == 0.0)\n",
    "tips_sample=tips_sample.drop(['tpep_pickup_datetime', 'tpep_dropoff_datetime', 'extra', 'mta_tax'],axis=1)\n",
    "\n",
    "tips_sample"
   ]
  },
  {
   "cell_type": "code",
   "execution_count": 27,
   "id": "8fea3713",
   "metadata": {},
   "outputs": [],
   "source": [
    "tips_sample.reset_index().to_feather(\"../preprocessed_data/tips_sample.feather\")"
   ]
  },
  {
   "cell_type": "markdown",
   "id": "cc118d27",
   "metadata": {},
   "source": [
    "## whole dateset representation"
   ]
  },
  {
   "cell_type": "code",
   "execution_count": 2,
   "id": "44a96a77",
   "metadata": {},
   "outputs": [],
   "source": [
    "sample = pd.read_feather(\"../preprocessed_data/sample.feather\")\n"
   ]
  },
  {
   "cell_type": "markdown",
   "id": "05cc86c8",
   "metadata": {},
   "source": [
    "### histogram of trip distance"
   ]
  },
  {
   "cell_type": "code",
   "execution_count": 58,
   "id": "da8623e5",
   "metadata": {},
   "outputs": [
    {
     "data": {
      "text/plain": [
       "count    7.096487e+06\n",
       "mean     2.154798e+00\n",
       "std      1.950859e+00\n",
       "min      1.000000e-02\n",
       "25%      9.300000e-01\n",
       "50%      1.510000e+00\n",
       "75%      2.600000e+00\n",
       "max      1.372000e+01\n",
       "Name: trip_distance, dtype: float64"
      ]
     },
     "execution_count": 58,
     "metadata": {},
     "output_type": "execute_result"
    }
   ],
   "source": [
    "sample['trip_distance'].describe()"
   ]
  },
  {
   "cell_type": "code",
   "execution_count": 78,
   "id": "76f80287",
   "metadata": {},
   "outputs": [
    {
     "data": {
      "image/png": "[encoded data removed]",
      "text/plain": [
       "<Figure size 648x432 with 1 Axes>"
      ]
     },
     "metadata": {
      "needs_background": "light"
     },
     "output_type": "display_data"
    }
   ],
   "source": [
    "x=sample['trip_distance']\n",
    "fig=plt.figure(figsize=(9,6))\n",
    "histax = fig.add_axes([0.2,0.2,0.7,0.5])\n",
    "\n",
    "h=histax.hist(x,bins=30, color='slateblue')\n",
    "quants = [[0.93, 0.8, 0.26], [1.51, 1, 0.36],  [2.6, 0.8, 0.46]]\n",
    "\n",
    "# Plot the lines with a loop\n",
    "for i in quants:\n",
    "    histax.axvline(i[0], alpha = i[1], ymax = i[2], linestyle = \":\", color='lime')\n",
    "\n",
    "histax.text(0.93-.1, 0.17, \"0.25\", size = 10, alpha = 0.8)\n",
    "histax.text(1.51-.13, 0.27, \"0.50\", size = 11, alpha = 0.85)\n",
    "histax.text(2.6-.13, 0.37, \"0.75 percentile\", size = 12, alpha = 1)\n",
    "\n",
    "plt.ylabel('demand', fontsize = 20)\n",
    "plt.xlabel('trip distance', fontsize = 20)\n",
    "plt.title('histogram of demand based on trip_distance',fontsize = 20)\n",
    "plt.savefig(\"../plots/histogram of demand based on trip_distance.png\")\n",
    "\n",
    "plt.show()"
   ]
  },
  {
   "cell_type": "markdown",
   "id": "c539c3df",
   "metadata": {},
   "source": [
    "### histogram of tip amount"
   ]
  },
  {
   "cell_type": "code",
   "execution_count": 3,
   "id": "33ff88e2",
   "metadata": {},
   "outputs": [],
   "source": [
    "tips_sample = sample[sample['payment_type']==1]"
   ]
  },
  {
   "cell_type": "code",
   "execution_count": 7,
   "id": "f82df35c",
   "metadata": {},
   "outputs": [
    {
     "data": {
      "text/plain": [
       "count    4.914233e+06\n",
       "mean     2.173576e+00\n",
       "std      1.404852e+00\n",
       "min      0.000000e+00\n",
       "25%      1.260000e+00\n",
       "50%      1.950000e+00\n",
       "75%      2.700000e+00\n",
       "max      1.479000e+01\n",
       "Name: tip_amount, dtype: float64"
      ]
     },
     "execution_count": 7,
     "metadata": {},
     "output_type": "execute_result"
    }
   ],
   "source": [
    "tips_sample['tip_amount'].describe()"
   ]
  },
  {
   "cell_type": "code",
   "execution_count": 8,
   "id": "eeb8312c",
   "metadata": {},
   "outputs": [
    {
     "data": {
      "image/png": "[encoded data removed]",
      "text/plain": [
       "<Figure size 648x432 with 1 Axes>"
      ]
     },
     "metadata": {
      "needs_background": "light"
     },
     "output_type": "display_data"
    }
   ],
   "source": [
    "x=tips_sample['tip_amount']\n",
    "fig=plt.figure(figsize=(9,6))\n",
    "histax = fig.add_axes([0.2,0.2,0.7,0.5])\n",
    "\n",
    "h=histax.hist(x,bins=30, color='slateblue')\n",
    "quants = [[1.26, 0.8, 0.26], [1.95, 1, 0.36],  [2.70, 0.8, 0.46]]\n",
    "\n",
    "# Plot the lines with a loop\n",
    "for i in quants:\n",
    "    histax.axvline(i[0], alpha = i[1], ymax = i[2], linestyle = \":\", color='lime')\n",
    "\n",
    "histax.text(0-.1, 0.17, \"0.25\", size = 10, alpha = 0.8)\n",
    "histax.text(1.35-.13, 0.27, \"0.5\", size = 11, alpha = 0.85)\n",
    "histax.text(2.25-.13, 0.37, \"0.75 percentile\", size = 12, alpha = 1)\n",
    "\n",
    "plt.ylabel('count', fontsize = 20)\n",
    "plt.xlabel('tips amount', fontsize = 20)\n",
    "plt.title('histogram of tips amount',fontsize = 20)\n",
    "plt.savefig(\"../plots/histogram of tips amount.png\")\n",
    "\n",
    "plt.show()"
   ]
  },
  {
   "cell_type": "markdown",
   "id": "5a3525a5",
   "metadata": {},
   "source": [
    "### histogram of total amount"
   ]
  },
  {
   "cell_type": "code",
   "execution_count": 85,
   "id": "c4623567",
   "metadata": {},
   "outputs": [
    {
     "data": {
      "text/plain": [
       "count    7.096487e+06\n",
       "mean     1.323839e+01\n",
       "std      7.149946e+00\n",
       "min      3.300000e+00\n",
       "25%      8.300000e+00\n",
       "50%      1.130000e+01\n",
       "75%      1.595000e+01\n",
       "max      6.636000e+01\n",
       "Name: total_amount, dtype: float64"
      ]
     },
     "execution_count": 85,
     "metadata": {},
     "output_type": "execute_result"
    }
   ],
   "source": [
    "sample['total_amount'].describe()"
   ]
  },
  {
   "cell_type": "code",
   "execution_count": 87,
   "id": "0f9bca87",
   "metadata": {},
   "outputs": [
    {
     "data": {
      "image/png": "[encoded data removed]",
      "text/plain": [
       "<Figure size 648x432 with 1 Axes>"
      ]
     },
     "metadata": {
      "needs_background": "light"
     },
     "output_type": "display_data"
    }
   ],
   "source": [
    "x=sample['total_amount']\n",
    "fig=plt.figure(figsize=(9,6))\n",
    "histax = fig.add_axes([0.2,0.2,0.7,0.5])\n",
    "\n",
    "h=histax.hist(x,bins=30, color='slateblue')\n",
    "quants = [[8.3, 0.8, 0.26], [11.3, 1, 0.36],  [15.95, 0.8, 0.46]]\n",
    "\n",
    "# Plot the lines with a loop\n",
    "for i in quants:\n",
    "    histax.axvline(i[0], alpha = i[1], ymax = i[2], linestyle = \":\", color='lime')\n",
    "\n",
    "histax.text(08.3-.1, 0.17, \"0.25\", size = 10, alpha = 0.8)\n",
    "histax.text(11.3-.13, 0.27, \"0.5\", size = 11, alpha = 0.85)\n",
    "histax.text(15.95-.13, 0.37, \"0.75 percentile\", size = 12, alpha = 1)\n",
    "\n",
    "plt.ylabel('count', fontsize = 20)\n",
    "plt.xlabel('total amount', fontsize = 20)\n",
    "plt.title('histogram of total amount',fontsize = 20)\n",
    "plt.savefig(\"../plots/histogram of total amount.png\")\n",
    "\n",
    "plt.show()"
   ]
  },
  {
   "cell_type": "markdown",
   "id": "9834db2b",
   "metadata": {},
   "source": [
    "### extrem weather vs demand"
   ]
  },
  {
   "cell_type": "code",
   "execution_count": 96,
   "id": "c1e954a6",
   "metadata": {},
   "outputs": [
    {
     "data": {
      "text/plain": [
       "3724824"
      ]
     },
     "execution_count": 96,
     "metadata": {},
     "output_type": "execute_result"
    }
   ],
   "source": [
    "sample['Extrem'].sum()"
   ]
  },
  {
   "cell_type": "code",
   "execution_count": 114,
   "id": "372a189f",
   "metadata": {},
   "outputs": [
    {
     "data": {
      "text/plain": [
       "143"
      ]
     },
     "execution_count": 114,
     "metadata": {},
     "output_type": "execute_result"
    }
   ],
   "source": [
    "weather['Extrem'].sum()"
   ]
  },
  {
   "cell_type": "code",
   "execution_count": 158,
   "id": "681edf53",
   "metadata": {},
   "outputs": [
    {
     "data": {
      "image/png": "[encoded data removed]",
      "text/plain": [
       "<Figure size 648x432 with 1 Axes>"
      ]
     },
     "metadata": {
      "needs_background": "light"
     },
     "output_type": "display_data"
    }
   ],
   "source": [
    "x=['True', 'False']\n",
    "y=[sample['Extrem'].sum()/weather['Extrem'].sum(), (7.096487e+06-sample['Extrem'].sum())/(273-weather['Extrem'].sum())]\n",
    "\n",
    "fig=plt.figure(figsize=(9,6))\n",
    "h = plt.bar(x,y,width=0.8,bottom=None,color = 'slateblue')\n",
    "\n",
    "plt.ylabel('demand', fontsize = 20)\n",
    "plt.xlabel('is extrem weather', fontsize = 20)\n",
    "plt.title('extrem weather vs. demand(scaled)',fontsize = 20)\n",
    "plt.savefig(\"../plots/extrem weather vs. demand(scaled).png\")\n",
    "\n",
    "plt.show()"
   ]
  },
  {
   "cell_type": "markdown",
   "id": "c9585885",
   "metadata": {},
   "source": [
    "### extrem weather vs. tips(scaled)"
   ]
  },
  {
   "cell_type": "code",
   "execution_count": 9,
   "id": "c110ffdf",
   "metadata": {},
   "outputs": [],
   "source": [
    "extrem_pickups = tips_sample['Extrem'].sum()\n",
    "total_pickups = tips_sample['total_amount'].describe()['count']\n"
   ]
  },
  {
   "cell_type": "code",
   "execution_count": 10,
   "id": "5ea12db8",
   "metadata": {},
   "outputs": [
    {
     "data": {
      "text/plain": [
       "Extrem\n",
       "False    5.026524e+06\n",
       "True     5.654933e+06\n",
       "Name: tip_amount, dtype: float64"
      ]
     },
     "execution_count": 10,
     "metadata": {},
     "output_type": "execute_result"
    }
   ],
   "source": [
    "extrem_tips = tips_sample.groupby('Extrem')['tip_amount'].agg('sum')\n",
    "extrem_tips"
   ]
  },
  {
   "cell_type": "code",
   "execution_count": 14,
   "id": "6f9064c2",
   "metadata": {},
   "outputs": [
    {
     "data": {
      "image/png": "[encoded data removed]",
      "text/plain": [
       "<Figure size 648x432 with 1 Axes>"
      ]
     },
     "metadata": {
      "needs_background": "light"
     },
     "output_type": "display_data"
    }
   ],
   "source": [
    "x=['True', 'False']\n",
    "y=[(5.654946e+06)/extrem_pickups, (5.026541e+06)/(total_pickups-extrem_pickups)]\n",
    "\n",
    "fig=plt.figure(figsize=(9,6))\n",
    "h = plt.bar(x,y,width=0.8,bottom=None,color = 'mediumspringgreen')\n",
    "\n",
    "    \n",
    "plt.ylabel('average tips per trip', fontsize = 20)\n",
    "plt.xlabel('is extrem weather', fontsize = 20)\n",
    "plt.title('extreme weather vs. average tips per trip',fontsize = 20)\n",
    "plt.savefig(\"../plots/extreme weather vs. average tips per trip.png\")\n",
    "\n",
    "plt.show()"
   ]
  },
  {
   "cell_type": "markdown",
   "id": "d983c9ce",
   "metadata": {},
   "source": [
    "### snow vs. demand"
   ]
  },
  {
   "cell_type": "code",
   "execution_count": 112,
   "id": "6fcd15b7",
   "metadata": {},
   "outputs": [
    {
     "data": {
      "text/plain": [
       "240156"
      ]
     },
     "execution_count": 112,
     "metadata": {},
     "output_type": "execute_result"
    }
   ],
   "source": [
    "sample[sample['SNOW']>0]['SNOW'].count()"
   ]
  },
  {
   "cell_type": "code",
   "execution_count": 123,
   "id": "edbe6039",
   "metadata": {},
   "outputs": [
    {
     "data": {
      "text/plain": [
       "10"
      ]
     },
     "execution_count": 123,
     "metadata": {},
     "output_type": "execute_result"
    }
   ],
   "source": [
    "weather[weather['SNOW'] > 0]['SNOW'].count()"
   ]
  },
  {
   "cell_type": "code",
   "execution_count": 157,
   "id": "cfb42a5e",
   "metadata": {},
   "outputs": [
    {
     "data": {
      "image/png": "[encoded data removed]",
      "text/plain": [
       "<Figure size 648x432 with 1 Axes>"
      ]
     },
     "metadata": {
      "needs_background": "light"
     },
     "output_type": "display_data"
    }
   ],
   "source": [
    "x=['True', 'False']\n",
    "y=[240156/10, (7.096487e+06-240156)/263]\n",
    "\n",
    "fig=plt.figure(figsize=(9,6))\n",
    "h = plt.bar(x,y,width=0.8,bottom=None,color = 'slateblue')\n",
    "\n",
    "plt.ylabel('demand', fontsize = 20)\n",
    "plt.xlabel('snow', fontsize = 20)\n",
    "plt.title('Snow vs. demand(scaled)',fontsize = 20)\n",
    "plt.savefig(\"../plots/Snow vs. demand(scaled).png\")\n",
    "\n",
    "plt.show()"
   ]
  },
  {
   "cell_type": "markdown",
   "id": "94287f48",
   "metadata": {},
   "source": [
    "### snow vs. average tips"
   ]
  },
  {
   "cell_type": "code",
   "execution_count": 15,
   "id": "d9e86fec",
   "metadata": {},
   "outputs": [],
   "source": [
    "snow_pickups = tips_sample[tips_sample['SNOW']>0]['SNOW'].count()"
   ]
  },
  {
   "cell_type": "code",
   "execution_count": 16,
   "id": "911505a4",
   "metadata": {},
   "outputs": [
    {
     "data": {
      "text/plain": [
       "349535.16"
      ]
     },
     "execution_count": 16,
     "metadata": {},
     "output_type": "execute_result"
    }
   ],
   "source": [
    "snow_tips = tips_sample[tips_sample['SNOW']>0]['tip_amount'].sum()\n",
    "snow_tips"
   ]
  },
  {
   "cell_type": "code",
   "execution_count": 17,
   "id": "aa2dcaf9",
   "metadata": {},
   "outputs": [
    {
     "data": {
      "text/plain": [
       "10331922.059999991"
      ]
     },
     "execution_count": 17,
     "metadata": {},
     "output_type": "execute_result"
    }
   ],
   "source": [
    "un_snow_tips = tips_sample[tips_sample['SNOW']==0]['tip_amount'].sum()\n",
    "un_snow_tips"
   ]
  },
  {
   "cell_type": "code",
   "execution_count": 18,
   "id": "f8a6ae51",
   "metadata": {},
   "outputs": [
    {
     "data": {
      "image/png": "[encoded data removed]",
      "text/plain": [
       "<Figure size 648x432 with 1 Axes>"
      ]
     },
     "metadata": {
      "needs_background": "light"
     },
     "output_type": "display_data"
    }
   ],
   "source": [
    "x=['True', 'False']\n",
    "y=[snow_tips/snow_pickups, un_snow_tips/(total_pickups - snow_pickups)]\n",
    "\n",
    "fig=plt.figure(figsize=(9,6))\n",
    "h = plt.bar(x,y,width=0.8,bottom=None,color = 'mediumspringgreen')\n",
    "\n",
    "plt.ylabel('average tips', fontsize = 20)\n",
    "plt.xlabel('snow', fontsize = 20)\n",
    "plt.title('Snow vs. average tips per trip',fontsize = 20)\n",
    "plt.savefig(\"../plots/Snow vs. average tips per trip.png\")\n",
    "\n",
    "plt.show()"
   ]
  },
  {
   "cell_type": "markdown",
   "id": "4c64b51d",
   "metadata": {},
   "source": [
    "### precipitation vs. demand"
   ]
  },
  {
   "cell_type": "code",
   "execution_count": 125,
   "id": "5dac4e41",
   "metadata": {},
   "outputs": [
    {
     "data": {
      "text/plain": [
       "3115860"
      ]
     },
     "execution_count": 125,
     "metadata": {},
     "output_type": "execute_result"
    }
   ],
   "source": [
    "sample[sample['PRCP']>0]['PRCP'].count()"
   ]
  },
  {
   "cell_type": "code",
   "execution_count": 126,
   "id": "664eac05",
   "metadata": {},
   "outputs": [
    {
     "data": {
      "text/plain": [
       "119"
      ]
     },
     "execution_count": 126,
     "metadata": {},
     "output_type": "execute_result"
    }
   ],
   "source": [
    "weather[weather['PRCP'] > 0]['PRCP'].count()"
   ]
  },
  {
   "cell_type": "code",
   "execution_count": 155,
   "id": "cb143729",
   "metadata": {},
   "outputs": [
    {
     "data": {
      "image/png": "[encoded data removed]",
      "text/plain": [
       "<Figure size 648x432 with 1 Axes>"
      ]
     },
     "metadata": {
      "needs_background": "light"
     },
     "output_type": "display_data"
    }
   ],
   "source": [
    "x=['True', 'False']\n",
    "y=[3115860/119, (7.096487e+06-3115860)/(273-119)]\n",
    "\n",
    "fig=plt.figure(figsize=(9,6))\n",
    "h = plt.bar(x,y,width=0.8,bottom=None,color = 'slateblue')\n",
    "\n",
    "plt.ylabel('demand', fontsize = 20)\n",
    "plt.xlabel('precpitaton', fontsize = 20)\n",
    "plt.title('precipitation vs. demand(scaled)',fontsize = 20)\n",
    "plt.savefig(\"../plots/precipitation vs. demand(scaled).png\")\n",
    "\n",
    "plt.show()"
   ]
  },
  {
   "cell_type": "markdown",
   "id": "69970592",
   "metadata": {},
   "source": [
    "### precipitation vs. average tips"
   ]
  },
  {
   "cell_type": "code",
   "execution_count": 19,
   "id": "cc0c9d45",
   "metadata": {},
   "outputs": [],
   "source": [
    "prec_pickups = tips_sample[tips_sample['PRCP']>0]['PRCP'].count()"
   ]
  },
  {
   "cell_type": "code",
   "execution_count": 20,
   "id": "bf8fa069",
   "metadata": {},
   "outputs": [
    {
     "data": {
      "text/plain": [
       "4733139.879999998"
      ]
     },
     "execution_count": 20,
     "metadata": {},
     "output_type": "execute_result"
    }
   ],
   "source": [
    "prec_tips = tips_sample[tips_sample['PRCP']>0]['tip_amount'].sum()\n",
    "prec_tips"
   ]
  },
  {
   "cell_type": "code",
   "execution_count": 21,
   "id": "a2e94960",
   "metadata": {},
   "outputs": [
    {
     "data": {
      "text/plain": [
       "5948317.339999993"
      ]
     },
     "execution_count": 21,
     "metadata": {},
     "output_type": "execute_result"
    }
   ],
   "source": [
    "un_prec_tips = tips_sample[tips_sample['PRCP']==0]['tip_amount'].sum()\n",
    "un_prec_tips"
   ]
  },
  {
   "cell_type": "code",
   "execution_count": 22,
   "id": "ba0f185f",
   "metadata": {},
   "outputs": [
    {
     "data": {
      "image/png": "[encoded data removed]",
      "text/plain": [
       "<Figure size 648x432 with 1 Axes>"
      ]
     },
     "metadata": {
      "needs_background": "light"
     },
     "output_type": "display_data"
    }
   ],
   "source": [
    "x=['True', 'False']\n",
    "y=[prec_tips/prec_pickups, un_prec_tips/(total_pickups - prec_pickups)]\n",
    "\n",
    "fig=plt.figure(figsize=(9,6))\n",
    "h = plt.bar(x,y,width=0.8,bottom=None,color = 'mediumspringgreen')\n",
    "\n",
    "plt.ylabel('average tips', fontsize = 20)\n",
    "plt.xlabel('snow', fontsize = 20)\n",
    "plt.title('Preciptation vs. average tips per trip',fontsize = 20)\n",
    "plt.savefig(\"../plots/Preciptation vs. average tips per trip.png\")\n",
    "\n",
    "plt.show()"
   ]
  },
  {
   "cell_type": "markdown",
   "id": "617b340f",
   "metadata": {},
   "source": [
    "### tempreture vs. demand"
   ]
  },
  {
   "cell_type": "code",
   "execution_count": 101,
   "id": "53a26a4f",
   "metadata": {},
   "outputs": [
    {
     "data": {
      "text/plain": [
       "count    7.096487e+06\n",
       "mean     1.445029e+01\n",
       "std      1.016751e+01\n",
       "min     -1.250000e+01\n",
       "25%      5.555556e+00\n",
       "50%      1.638889e+01\n",
       "75%      2.361111e+01\n",
       "max      3.083333e+01\n",
       "Name: TAVG, dtype: float64"
      ]
     },
     "execution_count": 101,
     "metadata": {},
     "output_type": "execute_result"
    }
   ],
   "source": [
    "tips_sample.group_by('TAVG').describe()['TAVG'].describe()"
   ]
  },
  {
   "cell_type": "code",
   "execution_count": 38,
   "id": "c2bb1be0",
   "metadata": {},
   "outputs": [
    {
     "data": {
      "image/png": "[encoded data removed]",
      "text/plain": [
       "<Figure size 648x432 with 1 Axes>"
      ]
     },
     "metadata": {
      "needs_background": "light"
     },
     "output_type": "display_data"
    }
   ],
   "source": [
    "x=sample['TAVG']\n",
    "fig=plt.figure(figsize=(9,6))\n",
    "histax = fig.add_axes([0.2,0.2,0.7,0.5])\n",
    "\n",
    "h=histax.hist(x,bins=30, color='slateblue')\n",
    "quants = [[5.55, 0.8, 0.26], [16.3, 1, 0.36],  [23.6, 0.8, 0.46]]\n",
    "\n",
    "# Plot the lines with a loop\n",
    "for i in quants:\n",
    "    histax.axvline(i[0], alpha = i[1], ymax = i[2], linestyle = \":\", color='lime')\n",
    "\n",
    "histax.text(5.55-.1, 0.17, \"0.25\", size = 10, alpha = 0.8)\n",
    "histax.text(16.3-.13, 0.27, \"0.5\", size = 11, alpha = 0.85)\n",
    "histax.text(23.6-.13, 0.37, \"0.75 percentile\", size = 12, alpha = 1)\n",
    "\n",
    "plt.ylabel('demand', fontsize = 20)\n",
    "plt.xlabel('avg tempreture', fontsize = 20)\n",
    "plt.title('tempreture vs. demand',fontsize = 20)\n",
    "#plt.savefig(\"../plots/tempreture vs. demand.png\")\n",
    "\n",
    "plt.show()"
   ]
  },
  {
   "cell_type": "markdown",
   "id": "5a25b171",
   "metadata": {},
   "source": [
    "### tempreture vs. average tips"
   ]
  },
  {
   "cell_type": "code",
   "execution_count": 8,
   "id": "a39716e4",
   "metadata": {},
   "outputs": [
    {
     "data": {
      "text/html": [
       "<div>\n",
       "<style scoped>\n",
       "    .dataframe tbody tr th:only-of-type {\n",
       "        vertical-align: middle;\n",
       "    }\n",
       "\n",
       "    .dataframe tbody tr th {\n",
       "        vertical-align: top;\n",
       "    }\n",
       "\n",
       "    .dataframe thead th {\n",
       "        text-align: right;\n",
       "    }\n",
       "</style>\n",
       "<table border=\"1\" class=\"dataframe\">\n",
       "  <thead>\n",
       "    <tr style=\"text-align: right;\">\n",
       "      <th></th>\n",
       "      <th>count</th>\n",
       "      <th>mean</th>\n",
       "      <th>std</th>\n",
       "      <th>min</th>\n",
       "      <th>25%</th>\n",
       "      <th>50%</th>\n",
       "      <th>75%</th>\n",
       "      <th>max</th>\n",
       "    </tr>\n",
       "    <tr>\n",
       "      <th>TAVG</th>\n",
       "      <th></th>\n",
       "      <th></th>\n",
       "      <th></th>\n",
       "      <th></th>\n",
       "      <th></th>\n",
       "      <th></th>\n",
       "      <th></th>\n",
       "      <th></th>\n",
       "    </tr>\n",
       "  </thead>\n",
       "  <tbody>\n",
       "    <tr>\n",
       "      <th>-12.500000</th>\n",
       "      <td>17312.0</td>\n",
       "      <td>2.019953</td>\n",
       "      <td>1.287652</td>\n",
       "      <td>0.0</td>\n",
       "      <td>1.16</td>\n",
       "      <td>1.76</td>\n",
       "      <td>2.50</td>\n",
       "      <td>13.10</td>\n",
       "    </tr>\n",
       "    <tr>\n",
       "      <th>-11.388889</th>\n",
       "      <td>14511.0</td>\n",
       "      <td>1.973795</td>\n",
       "      <td>1.288419</td>\n",
       "      <td>0.0</td>\n",
       "      <td>1.16</td>\n",
       "      <td>1.70</td>\n",
       "      <td>2.36</td>\n",
       "      <td>12.00</td>\n",
       "    </tr>\n",
       "    <tr>\n",
       "      <th>-10.555556</th>\n",
       "      <td>12283.0</td>\n",
       "      <td>2.175595</td>\n",
       "      <td>1.536836</td>\n",
       "      <td>0.0</td>\n",
       "      <td>1.17</td>\n",
       "      <td>1.85</td>\n",
       "      <td>2.75</td>\n",
       "      <td>14.04</td>\n",
       "    </tr>\n",
       "    <tr>\n",
       "      <th>-10.000000</th>\n",
       "      <td>16942.0</td>\n",
       "      <td>2.148118</td>\n",
       "      <td>1.347898</td>\n",
       "      <td>0.0</td>\n",
       "      <td>1.26</td>\n",
       "      <td>1.95</td>\n",
       "      <td>2.66</td>\n",
       "      <td>13.00</td>\n",
       "    </tr>\n",
       "    <tr>\n",
       "      <th>-6.944444</th>\n",
       "      <td>13252.0</td>\n",
       "      <td>2.031921</td>\n",
       "      <td>1.329113</td>\n",
       "      <td>0.0</td>\n",
       "      <td>1.20</td>\n",
       "      <td>1.76</td>\n",
       "      <td>2.46</td>\n",
       "      <td>12.24</td>\n",
       "    </tr>\n",
       "    <tr>\n",
       "      <th>...</th>\n",
       "      <td>...</td>\n",
       "      <td>...</td>\n",
       "      <td>...</td>\n",
       "      <td>...</td>\n",
       "      <td>...</td>\n",
       "      <td>...</td>\n",
       "      <td>...</td>\n",
       "      <td>...</td>\n",
       "    </tr>\n",
       "    <tr>\n",
       "      <th>28.888889</th>\n",
       "      <td>16323.0</td>\n",
       "      <td>2.208625</td>\n",
       "      <td>1.435461</td>\n",
       "      <td>0.0</td>\n",
       "      <td>1.26</td>\n",
       "      <td>1.96</td>\n",
       "      <td>2.76</td>\n",
       "      <td>13.89</td>\n",
       "    </tr>\n",
       "    <tr>\n",
       "      <th>29.166667</th>\n",
       "      <td>47440.0</td>\n",
       "      <td>2.108493</td>\n",
       "      <td>1.358594</td>\n",
       "      <td>0.0</td>\n",
       "      <td>1.25</td>\n",
       "      <td>1.86</td>\n",
       "      <td>2.60</td>\n",
       "      <td>14.04</td>\n",
       "    </tr>\n",
       "    <tr>\n",
       "      <th>30.277778</th>\n",
       "      <td>33685.0</td>\n",
       "      <td>2.153929</td>\n",
       "      <td>1.367614</td>\n",
       "      <td>0.0</td>\n",
       "      <td>1.26</td>\n",
       "      <td>1.95</td>\n",
       "      <td>2.66</td>\n",
       "      <td>12.95</td>\n",
       "    </tr>\n",
       "    <tr>\n",
       "      <th>30.555556</th>\n",
       "      <td>14500.0</td>\n",
       "      <td>2.054770</td>\n",
       "      <td>1.313444</td>\n",
       "      <td>0.0</td>\n",
       "      <td>1.20</td>\n",
       "      <td>1.85</td>\n",
       "      <td>2.56</td>\n",
       "      <td>12.00</td>\n",
       "    </tr>\n",
       "    <tr>\n",
       "      <th>30.833333</th>\n",
       "      <td>13440.0</td>\n",
       "      <td>2.034041</td>\n",
       "      <td>1.367434</td>\n",
       "      <td>0.0</td>\n",
       "      <td>1.16</td>\n",
       "      <td>1.76</td>\n",
       "      <td>2.49</td>\n",
       "      <td>13.75</td>\n",
       "    </tr>\n",
       "  </tbody>\n",
       "</table>\n",
       "<p>112 rows × 8 columns</p>\n",
       "</div>"
      ],
      "text/plain": [
       "              count      mean       std  min   25%   50%   75%    max\n",
       "TAVG                                                                 \n",
       "-12.500000  17312.0  2.019953  1.287652  0.0  1.16  1.76  2.50  13.10\n",
       "-11.388889  14511.0  1.973795  1.288419  0.0  1.16  1.70  2.36  12.00\n",
       "-10.555556  12283.0  2.175595  1.536836  0.0  1.17  1.85  2.75  14.04\n",
       "-10.000000  16942.0  2.148118  1.347898  0.0  1.26  1.95  2.66  13.00\n",
       "-6.944444   13252.0  2.031921  1.329113  0.0  1.20  1.76  2.46  12.24\n",
       "...             ...       ...       ...  ...   ...   ...   ...    ...\n",
       " 28.888889  16323.0  2.208625  1.435461  0.0  1.26  1.96  2.76  13.89\n",
       " 29.166667  47440.0  2.108493  1.358594  0.0  1.25  1.86  2.60  14.04\n",
       " 30.277778  33685.0  2.153929  1.367614  0.0  1.26  1.95  2.66  12.95\n",
       " 30.555556  14500.0  2.054770  1.313444  0.0  1.20  1.85  2.56  12.00\n",
       " 30.833333  13440.0  2.034041  1.367434  0.0  1.16  1.76  2.49  13.75\n",
       "\n",
       "[112 rows x 8 columns]"
      ]
     },
     "execution_count": 8,
     "metadata": {},
     "output_type": "execute_result"
    }
   ],
   "source": [
    "tips_sample.groupby('TAVG')['tip_amount'].describe()['TAVG']"
   ]
  },
  {
   "cell_type": "code",
   "execution_count": 12,
   "id": "eda1e32e",
   "metadata": {},
   "outputs": [
    {
     "data": {
      "text/plain": [
       "Float64Index([              -12.5,  -11.38888888888889, -10.555555555555555,\n",
       "                            -10.0,  -6.944444444444445,  -6.666666666666667,\n",
       "                             -5.0,  -4.722222222222222,  -4.444444444444445,\n",
       "               -3.888888888888889,\n",
       "              ...\n",
       "                27.22222222222222,                27.5,   27.77777777777778,\n",
       "               28.055555555555557,  28.333333333333332,   28.88888888888889,\n",
       "               29.166666666666668,   30.27777777777778,  30.555555555555557,\n",
       "               30.833333333333332],\n",
       "             dtype='float64', name='TAVG', length=112)"
      ]
     },
     "execution_count": 12,
     "metadata": {},
     "output_type": "execute_result"
    }
   ],
   "source": [
    "tips_sample.groupby('TAVG')['tip_amount'].describe().index"
   ]
  },
  {
   "cell_type": "code",
   "execution_count": 23,
   "id": "b059e2b5",
   "metadata": {},
   "outputs": [
    {
     "data": {
      "image/png": "[encoded data removed]",
      "text/plain": [
       "<Figure size 648x432 with 1 Axes>"
      ]
     },
     "metadata": {
      "needs_background": "light"
     },
     "output_type": "display_data"
    }
   ],
   "source": [
    "x=tips_sample.groupby('TAVG')['tip_amount'].describe().index\n",
    "y=tips_sample.groupby('TAVG')['tip_amount'].describe()['mean']\n",
    "\n",
    "fig=plt.figure(figsize=(9,6))\n",
    "h = plt.plot(x,y, color = 'mediumspringgreen')\n",
    "\n",
    "plt.ylabel('average tips', fontsize = 20)\n",
    "plt.xlabel('temperature', fontsize = 20)\n",
    "plt.title('temperature vs. average tips per trip',fontsize = 20)\n",
    "#plt.savefig(\"../plots/temperature vs. average tips per trip.png\")\n",
    "\n",
    "plt.show()"
   ]
  },
  {
   "cell_type": "markdown",
   "id": "f580c0a9",
   "metadata": {},
   "source": [
    "### day times vs. average tips"
   ]
  },
  {
   "cell_type": "code",
   "execution_count": 18,
   "id": "7ee665fc",
   "metadata": {},
   "outputs": [
    {
     "data": {
      "text/html": [
       "<div>\n",
       "<style scoped>\n",
       "    .dataframe tbody tr th:only-of-type {\n",
       "        vertical-align: middle;\n",
       "    }\n",
       "\n",
       "    .dataframe tbody tr th {\n",
       "        vertical-align: top;\n",
       "    }\n",
       "\n",
       "    .dataframe thead th {\n",
       "        text-align: right;\n",
       "    }\n",
       "</style>\n",
       "<table border=\"1\" class=\"dataframe\">\n",
       "  <thead>\n",
       "    <tr style=\"text-align: right;\">\n",
       "      <th></th>\n",
       "      <th>count</th>\n",
       "      <th>mean</th>\n",
       "      <th>std</th>\n",
       "      <th>min</th>\n",
       "      <th>25%</th>\n",
       "      <th>50%</th>\n",
       "      <th>75%</th>\n",
       "      <th>max</th>\n",
       "    </tr>\n",
       "    <tr>\n",
       "      <th>time_hr</th>\n",
       "      <th></th>\n",
       "      <th></th>\n",
       "      <th></th>\n",
       "      <th></th>\n",
       "      <th></th>\n",
       "      <th></th>\n",
       "      <th></th>\n",
       "      <th></th>\n",
       "    </tr>\n",
       "  </thead>\n",
       "  <tbody>\n",
       "    <tr>\n",
       "      <th>00</th>\n",
       "      <td>157005.0</td>\n",
       "      <td>2.311981</td>\n",
       "      <td>1.538693</td>\n",
       "      <td>0.0</td>\n",
       "      <td>1.33</td>\n",
       "      <td>2.00</td>\n",
       "      <td>2.96</td>\n",
       "      <td>14.20</td>\n",
       "    </tr>\n",
       "    <tr>\n",
       "      <th>01</th>\n",
       "      <td>109583.0</td>\n",
       "      <td>2.228845</td>\n",
       "      <td>1.497004</td>\n",
       "      <td>0.0</td>\n",
       "      <td>1.26</td>\n",
       "      <td>1.96</td>\n",
       "      <td>2.86</td>\n",
       "      <td>14.70</td>\n",
       "    </tr>\n",
       "    <tr>\n",
       "      <th>02</th>\n",
       "      <td>78868.0</td>\n",
       "      <td>2.177812</td>\n",
       "      <td>1.492163</td>\n",
       "      <td>0.0</td>\n",
       "      <td>1.20</td>\n",
       "      <td>1.95</td>\n",
       "      <td>2.76</td>\n",
       "      <td>14.20</td>\n",
       "    </tr>\n",
       "    <tr>\n",
       "      <th>03</th>\n",
       "      <td>54515.0</td>\n",
       "      <td>2.147040</td>\n",
       "      <td>1.530254</td>\n",
       "      <td>0.0</td>\n",
       "      <td>1.15</td>\n",
       "      <td>1.86</td>\n",
       "      <td>2.80</td>\n",
       "      <td>14.00</td>\n",
       "    </tr>\n",
       "    <tr>\n",
       "      <th>04</th>\n",
       "      <td>33989.0</td>\n",
       "      <td>2.223523</td>\n",
       "      <td>1.690009</td>\n",
       "      <td>0.0</td>\n",
       "      <td>1.06</td>\n",
       "      <td>1.86</td>\n",
       "      <td>2.96</td>\n",
       "      <td>14.67</td>\n",
       "    </tr>\n",
       "    <tr>\n",
       "      <th>05</th>\n",
       "      <td>37398.0</td>\n",
       "      <td>1.976195</td>\n",
       "      <td>1.509871</td>\n",
       "      <td>0.0</td>\n",
       "      <td>1.05</td>\n",
       "      <td>1.65</td>\n",
       "      <td>2.36</td>\n",
       "      <td>14.00</td>\n",
       "    </tr>\n",
       "    <tr>\n",
       "      <th>06</th>\n",
       "      <td>105115.0</td>\n",
       "      <td>1.806627</td>\n",
       "      <td>1.244787</td>\n",
       "      <td>0.0</td>\n",
       "      <td>1.03</td>\n",
       "      <td>1.55</td>\n",
       "      <td>2.16</td>\n",
       "      <td>14.00</td>\n",
       "    </tr>\n",
       "    <tr>\n",
       "      <th>07</th>\n",
       "      <td>193897.0</td>\n",
       "      <td>1.906526</td>\n",
       "      <td>1.217339</td>\n",
       "      <td>0.0</td>\n",
       "      <td>1.15</td>\n",
       "      <td>1.66</td>\n",
       "      <td>2.32</td>\n",
       "      <td>14.79</td>\n",
       "    </tr>\n",
       "    <tr>\n",
       "      <th>08</th>\n",
       "      <td>249737.0</td>\n",
       "      <td>2.037151</td>\n",
       "      <td>1.279898</td>\n",
       "      <td>0.0</td>\n",
       "      <td>1.20</td>\n",
       "      <td>1.80</td>\n",
       "      <td>2.52</td>\n",
       "      <td>14.34</td>\n",
       "    </tr>\n",
       "    <tr>\n",
       "      <th>09</th>\n",
       "      <td>240886.0</td>\n",
       "      <td>2.094140</td>\n",
       "      <td>1.325902</td>\n",
       "      <td>0.0</td>\n",
       "      <td>1.20</td>\n",
       "      <td>1.85</td>\n",
       "      <td>2.65</td>\n",
       "      <td>14.50</td>\n",
       "    </tr>\n",
       "    <tr>\n",
       "      <th>10</th>\n",
       "      <td>222127.0</td>\n",
       "      <td>2.112143</td>\n",
       "      <td>1.347467</td>\n",
       "      <td>0.0</td>\n",
       "      <td>1.24</td>\n",
       "      <td>1.86</td>\n",
       "      <td>2.65</td>\n",
       "      <td>14.00</td>\n",
       "    </tr>\n",
       "    <tr>\n",
       "      <th>11</th>\n",
       "      <td>225392.0</td>\n",
       "      <td>2.141309</td>\n",
       "      <td>1.372890</td>\n",
       "      <td>0.0</td>\n",
       "      <td>1.25</td>\n",
       "      <td>1.86</td>\n",
       "      <td>2.66</td>\n",
       "      <td>14.20</td>\n",
       "    </tr>\n",
       "    <tr>\n",
       "      <th>12</th>\n",
       "      <td>239094.0</td>\n",
       "      <td>2.138842</td>\n",
       "      <td>1.376732</td>\n",
       "      <td>0.0</td>\n",
       "      <td>1.25</td>\n",
       "      <td>1.86</td>\n",
       "      <td>2.67</td>\n",
       "      <td>14.14</td>\n",
       "    </tr>\n",
       "    <tr>\n",
       "      <th>13</th>\n",
       "      <td>238031.0</td>\n",
       "      <td>2.126807</td>\n",
       "      <td>1.375713</td>\n",
       "      <td>0.0</td>\n",
       "      <td>1.25</td>\n",
       "      <td>1.86</td>\n",
       "      <td>2.66</td>\n",
       "      <td>14.00</td>\n",
       "    </tr>\n",
       "    <tr>\n",
       "      <th>14</th>\n",
       "      <td>246761.0</td>\n",
       "      <td>2.137282</td>\n",
       "      <td>1.408503</td>\n",
       "      <td>0.0</td>\n",
       "      <td>1.25</td>\n",
       "      <td>1.86</td>\n",
       "      <td>2.66</td>\n",
       "      <td>14.79</td>\n",
       "    </tr>\n",
       "    <tr>\n",
       "      <th>15</th>\n",
       "      <td>246597.0</td>\n",
       "      <td>2.133939</td>\n",
       "      <td>1.425895</td>\n",
       "      <td>0.0</td>\n",
       "      <td>1.23</td>\n",
       "      <td>1.86</td>\n",
       "      <td>2.66</td>\n",
       "      <td>14.64</td>\n",
       "    </tr>\n",
       "    <tr>\n",
       "      <th>16</th>\n",
       "      <td>231787.0</td>\n",
       "      <td>2.214600</td>\n",
       "      <td>1.456824</td>\n",
       "      <td>0.0</td>\n",
       "      <td>1.32</td>\n",
       "      <td>1.96</td>\n",
       "      <td>2.75</td>\n",
       "      <td>14.49</td>\n",
       "    </tr>\n",
       "    <tr>\n",
       "      <th>17</th>\n",
       "      <td>278233.0</td>\n",
       "      <td>2.236959</td>\n",
       "      <td>1.424146</td>\n",
       "      <td>0.0</td>\n",
       "      <td>1.35</td>\n",
       "      <td>2.00</td>\n",
       "      <td>2.76</td>\n",
       "      <td>14.45</td>\n",
       "    </tr>\n",
       "    <tr>\n",
       "      <th>18</th>\n",
       "      <td>326975.0</td>\n",
       "      <td>2.214258</td>\n",
       "      <td>1.355863</td>\n",
       "      <td>0.0</td>\n",
       "      <td>1.36</td>\n",
       "      <td>2.00</td>\n",
       "      <td>2.76</td>\n",
       "      <td>14.63</td>\n",
       "    </tr>\n",
       "    <tr>\n",
       "      <th>19</th>\n",
       "      <td>318725.0</td>\n",
       "      <td>2.181472</td>\n",
       "      <td>1.327076</td>\n",
       "      <td>0.0</td>\n",
       "      <td>1.35</td>\n",
       "      <td>1.96</td>\n",
       "      <td>2.70</td>\n",
       "      <td>14.79</td>\n",
       "    </tr>\n",
       "    <tr>\n",
       "      <th>20</th>\n",
       "      <td>292051.0</td>\n",
       "      <td>2.200676</td>\n",
       "      <td>1.371428</td>\n",
       "      <td>0.0</td>\n",
       "      <td>1.35</td>\n",
       "      <td>1.96</td>\n",
       "      <td>2.75</td>\n",
       "      <td>14.70</td>\n",
       "    </tr>\n",
       "    <tr>\n",
       "      <th>21</th>\n",
       "      <td>291249.0</td>\n",
       "      <td>2.300246</td>\n",
       "      <td>1.445535</td>\n",
       "      <td>0.0</td>\n",
       "      <td>1.36</td>\n",
       "      <td>2.00</td>\n",
       "      <td>2.86</td>\n",
       "      <td>14.20</td>\n",
       "    </tr>\n",
       "    <tr>\n",
       "      <th>22</th>\n",
       "      <td>276624.0</td>\n",
       "      <td>2.357489</td>\n",
       "      <td>1.495570</td>\n",
       "      <td>0.0</td>\n",
       "      <td>1.40</td>\n",
       "      <td>2.00</td>\n",
       "      <td>2.96</td>\n",
       "      <td>14.79</td>\n",
       "    </tr>\n",
       "    <tr>\n",
       "      <th>23</th>\n",
       "      <td>219594.0</td>\n",
       "      <td>2.369425</td>\n",
       "      <td>1.551705</td>\n",
       "      <td>0.0</td>\n",
       "      <td>1.36</td>\n",
       "      <td>2.00</td>\n",
       "      <td>3.00</td>\n",
       "      <td>14.00</td>\n",
       "    </tr>\n",
       "  </tbody>\n",
       "</table>\n",
       "</div>"
      ],
      "text/plain": [
       "            count      mean       std  min   25%   50%   75%    max\n",
       "time_hr                                                            \n",
       "00       157005.0  2.311981  1.538693  0.0  1.33  2.00  2.96  14.20\n",
       "01       109583.0  2.228845  1.497004  0.0  1.26  1.96  2.86  14.70\n",
       "02        78868.0  2.177812  1.492163  0.0  1.20  1.95  2.76  14.20\n",
       "03        54515.0  2.147040  1.530254  0.0  1.15  1.86  2.80  14.00\n",
       "04        33989.0  2.223523  1.690009  0.0  1.06  1.86  2.96  14.67\n",
       "05        37398.0  1.976195  1.509871  0.0  1.05  1.65  2.36  14.00\n",
       "06       105115.0  1.806627  1.244787  0.0  1.03  1.55  2.16  14.00\n",
       "07       193897.0  1.906526  1.217339  0.0  1.15  1.66  2.32  14.79\n",
       "08       249737.0  2.037151  1.279898  0.0  1.20  1.80  2.52  14.34\n",
       "09       240886.0  2.094140  1.325902  0.0  1.20  1.85  2.65  14.50\n",
       "10       222127.0  2.112143  1.347467  0.0  1.24  1.86  2.65  14.00\n",
       "11       225392.0  2.141309  1.372890  0.0  1.25  1.86  2.66  14.20\n",
       "12       239094.0  2.138842  1.376732  0.0  1.25  1.86  2.67  14.14\n",
       "13       238031.0  2.126807  1.375713  0.0  1.25  1.86  2.66  14.00\n",
       "14       246761.0  2.137282  1.408503  0.0  1.25  1.86  2.66  14.79\n",
       "15       246597.0  2.133939  1.425895  0.0  1.23  1.86  2.66  14.64\n",
       "16       231787.0  2.214600  1.456824  0.0  1.32  1.96  2.75  14.49\n",
       "17       278233.0  2.236959  1.424146  0.0  1.35  2.00  2.76  14.45\n",
       "18       326975.0  2.214258  1.355863  0.0  1.36  2.00  2.76  14.63\n",
       "19       318725.0  2.181472  1.327076  0.0  1.35  1.96  2.70  14.79\n",
       "20       292051.0  2.200676  1.371428  0.0  1.35  1.96  2.75  14.70\n",
       "21       291249.0  2.300246  1.445535  0.0  1.36  2.00  2.86  14.20\n",
       "22       276624.0  2.357489  1.495570  0.0  1.40  2.00  2.96  14.79\n",
       "23       219594.0  2.369425  1.551705  0.0  1.36  2.00  3.00  14.00"
      ]
     },
     "execution_count": 18,
     "metadata": {},
     "output_type": "execute_result"
    }
   ],
   "source": [
    "tips_sample.groupby('time_hr')['tip_amount'].describe()"
   ]
  },
  {
   "cell_type": "code",
   "execution_count": 19,
   "id": "536e9abc",
   "metadata": {},
   "outputs": [
    {
     "data": {
      "image/png": "[encoded data removed]",
      "text/plain": [
       "<Figure size 648x432 with 1 Axes>"
      ]
     },
     "metadata": {
      "needs_background": "light"
     },
     "output_type": "display_data"
    }
   ],
   "source": [
    "x=tips_sample.groupby('time_hr')['tip_amount'].describe().index\n",
    "y=tips_sample.groupby('time_hr')['tip_amount'].describe()['mean']\n",
    "\n",
    "fig=plt.figure(figsize=(9,6))\n",
    "h = plt.bar(x,y,color = 'mediumspringgreen')\n",
    "\n",
    "plt.ylabel('average tips', fontsize = 20)\n",
    "plt.xlabel('time_hr', fontsize = 20)\n",
    "plt.title('time_hr vs. average tips per trip',fontsize = 20)\n",
    "plt.savefig(\"../plots/time_hr vs. average tips per trip.png\")\n",
    "\n",
    "plt.show()"
   ]
  },
  {
   "cell_type": "markdown",
   "id": "f45d6ced",
   "metadata": {},
   "source": [
    "### number of ppl giving tips based on time in a day"
   ]
  },
  {
   "cell_type": "code",
   "execution_count": 21,
   "id": "74664213",
   "metadata": {},
   "outputs": [
    {
     "data": {
      "image/png": "[encoded data removed]",
      "text/plain": [
       "<Figure size 648x432 with 1 Axes>"
      ]
     },
     "metadata": {
      "needs_background": "light"
     },
     "output_type": "display_data"
    }
   ],
   "source": [
    "x=tips_sample.groupby('time_hr')['tip_amount'].describe().index\n",
    "y=tips_sample.groupby('time_hr')['tip_amount'].describe()['count']\n",
    "\n",
    "fig=plt.figure(figsize=(9,6))\n",
    "h = plt.bar(x,y,color = 'mediumspringgreen')\n",
    "\n",
    "plt.ylabel('number of trips giving tips', fontsize = 20)\n",
    "plt.xlabel('time_hr', fontsize = 20)\n",
    "plt.title('time in a day vs. number of trips giving tips',fontsize = 20)\n",
    "plt.savefig(\"../plots/time in a day vs. number of trips giving tips.png\")\n",
    "\n",
    "plt.show()"
   ]
  },
  {
   "cell_type": "markdown",
   "id": "9aad7f8b",
   "metadata": {},
   "source": [
    "### day types vs. demand"
   ]
  },
  {
   "cell_type": "code",
   "execution_count": 150,
   "id": "d725a700",
   "metadata": {},
   "outputs": [
    {
     "data": {
      "text/plain": [
       "78"
      ]
     },
     "execution_count": 150,
     "metadata": {},
     "output_type": "execute_result"
    }
   ],
   "source": [
    "sample['date'] = pd.to_datetime(sample['date'])\n",
    "sample['weekday'] = ((pd.DatetimeIndex(sample.date).dayofweek) // 5 == 1).astype(float)\n",
    "\n",
    "sample[sample['weekday']==1].date.nunique()"
   ]
  },
  {
   "cell_type": "code",
   "execution_count": 131,
   "id": "635aa279",
   "metadata": {},
   "outputs": [
    {
     "data": {
      "text/plain": [
       "113465"
      ]
     },
     "execution_count": 131,
     "metadata": {},
     "output_type": "execute_result"
    }
   ],
   "source": [
    "sample['holiday'].sum() #113465 drives in holidays, \n",
    "                        # and we have 6 holidays within the investigation period"
   ]
  },
  {
   "cell_type": "code",
   "execution_count": 53,
   "id": "83a13c88",
   "metadata": {},
   "outputs": [
    {
     "data": {
      "image/png": "[encoded data removed]",
      "text/plain": [
       "<Figure size 648x432 with 1 Axes>"
      ]
     },
     "metadata": {
      "needs_background": "light"
     },
     "output_type": "display_data"
    }
   ],
   "source": [
    "x=['official holiday and weekend', 'weekday']\n",
    "y=[113465/6+1936439/78,(7.096487e+06-113465-1936439)/(273-6-78)]\n",
    "\n",
    "fig=plt.figure(figsize=(9,6))\n",
    "h = plt.bar(x,y,width=0.8,bottom=None,color = 'slateblue')\n",
    "\n",
    "plt.ylabel('demand', fontsize = 20)\n",
    "plt.xlabel('day types', fontsize = 20)\n",
    "plt.title('day types vs. demand(scaled)',fontsize = 20)\n",
    "plt.savefig(\"../plots/day types vs. demand(scaled).png\")\n",
    "\n",
    "plt.show()"
   ]
  },
  {
   "cell_type": "markdown",
   "id": "d5d094e9",
   "metadata": {},
   "source": [
    "### day types vs. average tips\n"
   ]
  },
  {
   "cell_type": "code",
   "execution_count": 29,
   "id": "763b9fd9",
   "metadata": {},
   "outputs": [
    {
     "data": {
      "text/plain": [
       "1286383"
      ]
     },
     "execution_count": 29,
     "metadata": {},
     "output_type": "execute_result"
    }
   ],
   "source": [
    "weekends  = tips_sample[tips_sample['weekday']==1.0]['weekday'].count()\n",
    "weekends"
   ]
  },
  {
   "cell_type": "code",
   "execution_count": 35,
   "id": "234d8043",
   "metadata": {},
   "outputs": [],
   "source": [
    "holi_pickups = tips_sample['holiday'].sum()+weekends"
   ]
  },
  {
   "cell_type": "code",
   "execution_count": 30,
   "id": "ef699367",
   "metadata": {},
   "outputs": [],
   "source": [
    "holi_tips =  tips_sample[tips_sample['holiday']]['tip_amount'].sum()\n"
   ]
  },
  {
   "cell_type": "code",
   "execution_count": 32,
   "id": "dc07915e",
   "metadata": {},
   "outputs": [
    {
     "data": {
      "text/plain": [
       "5544490.4899999965"
      ]
     },
     "execution_count": 32,
     "metadata": {},
     "output_type": "execute_result"
    }
   ],
   "source": [
    "holi_tips = holi_tips+tips_sample[tips_sample['weekday']==1.0]['tip_amount'].sum()\n",
    "holi_tips"
   ]
  },
  {
   "cell_type": "code",
   "execution_count": 33,
   "id": "7cbb0b5a",
   "metadata": {},
   "outputs": [
    {
     "data": {
      "text/plain": [
       "10531591.830000004"
      ]
     },
     "execution_count": 33,
     "metadata": {},
     "output_type": "execute_result"
    }
   ],
   "source": [
    "un_holi_tips = tips_sample[tips_sample['holiday']==False]['tip_amount'].sum()\n",
    "un_holi_tips"
   ]
  },
  {
   "cell_type": "code",
   "execution_count": 36,
   "id": "55cdf8fb",
   "metadata": {},
   "outputs": [
    {
     "data": {
      "image/png": "[encoded data removed]",
      "text/plain": [
       "<Figure size 648x432 with 1 Axes>"
      ]
     },
     "metadata": {
      "needs_background": "light"
     },
     "output_type": "display_data"
    }
   ],
   "source": [
    "x=['official holidays and weekends', 'weekday']\n",
    "y=[holi_tips/holi_pickups, un_holi_tips/(total_pickups-holi_pickups)]\n",
    "\n",
    "fig=plt.figure(figsize=(9,6))\n",
    "h = plt.bar(x,y,width=0.8,bottom=None,color = 'mediumspringgreen')\n",
    "\n",
    "plt.ylabel('average tips per trip', fontsize = 20)\n",
    "plt.xlabel('day types', fontsize = 20)\n",
    "plt.title('day types vs. average tips per trip',fontsize = 20)\n",
    "plt.savefig(\"../plots/day types vs. average tips per trip.png\")\n",
    "\n",
    "plt.show()"
   ]
  },
  {
   "cell_type": "markdown",
   "id": "381e5afa",
   "metadata": {},
   "source": [
    "### check point"
   ]
  },
  {
   "cell_type": "code",
   "execution_count": 165,
   "id": "7ac5b802",
   "metadata": {},
   "outputs": [],
   "source": [
    "sample.to_feather('../preprocessed_data/sample.feather')"
   ]
  },
  {
   "cell_type": "markdown",
   "id": "9a8457d5",
   "metadata": {},
   "source": [
    "### time vs. demand"
   ]
  },
  {
   "cell_type": "code",
   "execution_count": 164,
   "id": "4fbbec33",
   "metadata": {},
   "outputs": [
    {
     "data": {
      "text/html": [
       "<div>\n",
       "<style scoped>\n",
       "    .dataframe tbody tr th:only-of-type {\n",
       "        vertical-align: middle;\n",
       "    }\n",
       "\n",
       "    .dataframe tbody tr th {\n",
       "        vertical-align: top;\n",
       "    }\n",
       "\n",
       "    .dataframe thead th {\n",
       "        text-align: right;\n",
       "    }\n",
       "</style>\n",
       "<table border=\"1\" class=\"dataframe\">\n",
       "  <thead>\n",
       "    <tr style=\"text-align: right;\">\n",
       "      <th></th>\n",
       "      <th>tpep_pickup_datetime</th>\n",
       "      <th>tpep_dropoff_datetime</th>\n",
       "      <th>passenger_count</th>\n",
       "      <th>trip_distance</th>\n",
       "      <th>PULocationID</th>\n",
       "      <th>DOLocationID</th>\n",
       "      <th>payment_type</th>\n",
       "      <th>fare_amount</th>\n",
       "      <th>extra</th>\n",
       "      <th>mta_tax</th>\n",
       "      <th>...</th>\n",
       "      <th>tolls_amount</th>\n",
       "      <th>total_amount</th>\n",
       "      <th>date</th>\n",
       "      <th>holiday</th>\n",
       "      <th>PRCP</th>\n",
       "      <th>SNOW</th>\n",
       "      <th>SNWD</th>\n",
       "      <th>TAVG</th>\n",
       "      <th>Extrem</th>\n",
       "      <th>weekday</th>\n",
       "    </tr>\n",
       "  </thead>\n",
       "  <tbody>\n",
       "    <tr>\n",
       "      <th>0</th>\n",
       "      <td>2018-03-14 22:52:13</td>\n",
       "      <td>2018-03-14 22:55:20</td>\n",
       "      <td>2</td>\n",
       "      <td>0.70</td>\n",
       "      <td>164</td>\n",
       "      <td>170</td>\n",
       "      <td>2</td>\n",
       "      <td>4.5</td>\n",
       "      <td>0.5</td>\n",
       "      <td>0.5</td>\n",
       "      <td>...</td>\n",
       "      <td>0.0</td>\n",
       "      <td>5.80</td>\n",
       "      <td>2018-03-14</td>\n",
       "      <td>False</td>\n",
       "      <td>0.01</td>\n",
       "      <td>0.0</td>\n",
       "      <td>0.0</td>\n",
       "      <td>2.222222</td>\n",
       "      <td>True</td>\n",
       "      <td>0.0</td>\n",
       "    </tr>\n",
       "    <tr>\n",
       "      <th>1</th>\n",
       "      <td>2018-02-06 09:53:25</td>\n",
       "      <td>2018-02-06 10:05:49</td>\n",
       "      <td>1</td>\n",
       "      <td>1.97</td>\n",
       "      <td>239</td>\n",
       "      <td>236</td>\n",
       "      <td>1</td>\n",
       "      <td>10.0</td>\n",
       "      <td>0.0</td>\n",
       "      <td>0.5</td>\n",
       "      <td>...</td>\n",
       "      <td>0.0</td>\n",
       "      <td>13.50</td>\n",
       "      <td>2018-02-06</td>\n",
       "      <td>False</td>\n",
       "      <td>0.00</td>\n",
       "      <td>0.0</td>\n",
       "      <td>0.0</td>\n",
       "      <td>-0.277778</td>\n",
       "      <td>False</td>\n",
       "      <td>0.0</td>\n",
       "    </tr>\n",
       "    <tr>\n",
       "      <th>2</th>\n",
       "      <td>2018-02-22 13:05:15</td>\n",
       "      <td>2018-02-22 13:12:47</td>\n",
       "      <td>1</td>\n",
       "      <td>1.10</td>\n",
       "      <td>237</td>\n",
       "      <td>262</td>\n",
       "      <td>1</td>\n",
       "      <td>7.0</td>\n",
       "      <td>0.0</td>\n",
       "      <td>0.5</td>\n",
       "      <td>...</td>\n",
       "      <td>0.0</td>\n",
       "      <td>9.35</td>\n",
       "      <td>2018-02-22</td>\n",
       "      <td>False</td>\n",
       "      <td>0.17</td>\n",
       "      <td>0.0</td>\n",
       "      <td>0.0</td>\n",
       "      <td>8.888889</td>\n",
       "      <td>True</td>\n",
       "      <td>0.0</td>\n",
       "    </tr>\n",
       "    <tr>\n",
       "      <th>3</th>\n",
       "      <td>2018-02-08 09:22:02</td>\n",
       "      <td>2018-02-08 09:43:31</td>\n",
       "      <td>4</td>\n",
       "      <td>5.54</td>\n",
       "      <td>170</td>\n",
       "      <td>261</td>\n",
       "      <td>1</td>\n",
       "      <td>21.0</td>\n",
       "      <td>0.0</td>\n",
       "      <td>0.5</td>\n",
       "      <td>...</td>\n",
       "      <td>0.0</td>\n",
       "      <td>26.16</td>\n",
       "      <td>2018-02-08</td>\n",
       "      <td>False</td>\n",
       "      <td>0.00</td>\n",
       "      <td>0.0</td>\n",
       "      <td>0.0</td>\n",
       "      <td>-1.666667</td>\n",
       "      <td>False</td>\n",
       "      <td>0.0</td>\n",
       "    </tr>\n",
       "    <tr>\n",
       "      <th>4</th>\n",
       "      <td>2018-03-21 08:30:30</td>\n",
       "      <td>2018-03-21 08:44:51</td>\n",
       "      <td>1</td>\n",
       "      <td>6.00</td>\n",
       "      <td>137</td>\n",
       "      <td>168</td>\n",
       "      <td>1</td>\n",
       "      <td>18.0</td>\n",
       "      <td>0.0</td>\n",
       "      <td>0.5</td>\n",
       "      <td>...</td>\n",
       "      <td>0.0</td>\n",
       "      <td>19.80</td>\n",
       "      <td>2018-03-21</td>\n",
       "      <td>False</td>\n",
       "      <td>0.99</td>\n",
       "      <td>8.2</td>\n",
       "      <td>0.0</td>\n",
       "      <td>1.666667</td>\n",
       "      <td>True</td>\n",
       "      <td>0.0</td>\n",
       "    </tr>\n",
       "    <tr>\n",
       "      <th>...</th>\n",
       "      <td>...</td>\n",
       "      <td>...</td>\n",
       "      <td>...</td>\n",
       "      <td>...</td>\n",
       "      <td>...</td>\n",
       "      <td>...</td>\n",
       "      <td>...</td>\n",
       "      <td>...</td>\n",
       "      <td>...</td>\n",
       "      <td>...</td>\n",
       "      <td>...</td>\n",
       "      <td>...</td>\n",
       "      <td>...</td>\n",
       "      <td>...</td>\n",
       "      <td>...</td>\n",
       "      <td>...</td>\n",
       "      <td>...</td>\n",
       "      <td>...</td>\n",
       "      <td>...</td>\n",
       "      <td>...</td>\n",
       "      <td>...</td>\n",
       "    </tr>\n",
       "    <tr>\n",
       "      <th>7096482</th>\n",
       "      <td>2018-08-25 10:10:14</td>\n",
       "      <td>2018-08-25 10:23:03</td>\n",
       "      <td>1</td>\n",
       "      <td>2.23</td>\n",
       "      <td>168</td>\n",
       "      <td>263</td>\n",
       "      <td>1</td>\n",
       "      <td>10.5</td>\n",
       "      <td>0.0</td>\n",
       "      <td>0.5</td>\n",
       "      <td>...</td>\n",
       "      <td>0.0</td>\n",
       "      <td>13.56</td>\n",
       "      <td>2018-08-25</td>\n",
       "      <td>False</td>\n",
       "      <td>0.00</td>\n",
       "      <td>0.0</td>\n",
       "      <td>0.0</td>\n",
       "      <td>23.333333</td>\n",
       "      <td>False</td>\n",
       "      <td>1.0</td>\n",
       "    </tr>\n",
       "    <tr>\n",
       "      <th>7096483</th>\n",
       "      <td>2018-07-12 21:55:11</td>\n",
       "      <td>2018-07-12 22:26:03</td>\n",
       "      <td>1</td>\n",
       "      <td>7.60</td>\n",
       "      <td>114</td>\n",
       "      <td>74</td>\n",
       "      <td>1</td>\n",
       "      <td>27.0</td>\n",
       "      <td>0.5</td>\n",
       "      <td>0.5</td>\n",
       "      <td>...</td>\n",
       "      <td>0.0</td>\n",
       "      <td>30.30</td>\n",
       "      <td>2018-07-12</td>\n",
       "      <td>False</td>\n",
       "      <td>0.71</td>\n",
       "      <td>0.0</td>\n",
       "      <td>0.0</td>\n",
       "      <td>23.333333</td>\n",
       "      <td>True</td>\n",
       "      <td>0.0</td>\n",
       "    </tr>\n",
       "    <tr>\n",
       "      <th>7096484</th>\n",
       "      <td>2018-08-10 05:22:13</td>\n",
       "      <td>2018-08-10 05:28:46</td>\n",
       "      <td>2</td>\n",
       "      <td>1.10</td>\n",
       "      <td>100</td>\n",
       "      <td>164</td>\n",
       "      <td>2</td>\n",
       "      <td>6.5</td>\n",
       "      <td>0.5</td>\n",
       "      <td>0.5</td>\n",
       "      <td>...</td>\n",
       "      <td>0.0</td>\n",
       "      <td>7.80</td>\n",
       "      <td>2018-08-10</td>\n",
       "      <td>False</td>\n",
       "      <td>0.00</td>\n",
       "      <td>0.0</td>\n",
       "      <td>0.0</td>\n",
       "      <td>26.111111</td>\n",
       "      <td>False</td>\n",
       "      <td>0.0</td>\n",
       "    </tr>\n",
       "    <tr>\n",
       "      <th>7096485</th>\n",
       "      <td>2018-07-07 23:50:53</td>\n",
       "      <td>2018-07-07 23:56:27</td>\n",
       "      <td>1</td>\n",
       "      <td>1.20</td>\n",
       "      <td>162</td>\n",
       "      <td>107</td>\n",
       "      <td>1</td>\n",
       "      <td>6.5</td>\n",
       "      <td>0.5</td>\n",
       "      <td>0.5</td>\n",
       "      <td>...</td>\n",
       "      <td>0.0</td>\n",
       "      <td>9.20</td>\n",
       "      <td>2018-07-07</td>\n",
       "      <td>False</td>\n",
       "      <td>0.00</td>\n",
       "      <td>0.0</td>\n",
       "      <td>0.0</td>\n",
       "      <td>21.111111</td>\n",
       "      <td>False</td>\n",
       "      <td>1.0</td>\n",
       "    </tr>\n",
       "    <tr>\n",
       "      <th>7096486</th>\n",
       "      <td>2018-09-21 18:16:14</td>\n",
       "      <td>2018-09-21 18:41:44</td>\n",
       "      <td>1</td>\n",
       "      <td>3.20</td>\n",
       "      <td>263</td>\n",
       "      <td>137</td>\n",
       "      <td>1</td>\n",
       "      <td>17.5</td>\n",
       "      <td>1.0</td>\n",
       "      <td>0.5</td>\n",
       "      <td>...</td>\n",
       "      <td>0.0</td>\n",
       "      <td>23.15</td>\n",
       "      <td>2018-09-21</td>\n",
       "      <td>False</td>\n",
       "      <td>0.00</td>\n",
       "      <td>0.0</td>\n",
       "      <td>0.0</td>\n",
       "      <td>20.833333</td>\n",
       "      <td>False</td>\n",
       "      <td>0.0</td>\n",
       "    </tr>\n",
       "  </tbody>\n",
       "</table>\n",
       "<p>7096487 rows × 21 columns</p>\n",
       "</div>"
      ],
      "text/plain": [
       "        tpep_pickup_datetime tpep_dropoff_datetime  passenger_count  \\\n",
       "0        2018-03-14 22:52:13   2018-03-14 22:55:20                2   \n",
       "1        2018-02-06 09:53:25   2018-02-06 10:05:49                1   \n",
       "2        2018-02-22 13:05:15   2018-02-22 13:12:47                1   \n",
       "3        2018-02-08 09:22:02   2018-02-08 09:43:31                4   \n",
       "4        2018-03-21 08:30:30   2018-03-21 08:44:51                1   \n",
       "...                      ...                   ...              ...   \n",
       "7096482  2018-08-25 10:10:14   2018-08-25 10:23:03                1   \n",
       "7096483  2018-07-12 21:55:11   2018-07-12 22:26:03                1   \n",
       "7096484  2018-08-10 05:22:13   2018-08-10 05:28:46                2   \n",
       "7096485  2018-07-07 23:50:53   2018-07-07 23:56:27                1   \n",
       "7096486  2018-09-21 18:16:14   2018-09-21 18:41:44                1   \n",
       "\n",
       "         trip_distance  PULocationID  DOLocationID  payment_type  fare_amount  \\\n",
       "0                 0.70           164           170             2          4.5   \n",
       "1                 1.97           239           236             1         10.0   \n",
       "2                 1.10           237           262             1          7.0   \n",
       "3                 5.54           170           261             1         21.0   \n",
       "4                 6.00           137           168             1         18.0   \n",
       "...                ...           ...           ...           ...          ...   \n",
       "7096482           2.23           168           263             1         10.5   \n",
       "7096483           7.60           114            74             1         27.0   \n",
       "7096484           1.10           100           164             2          6.5   \n",
       "7096485           1.20           162           107             1          6.5   \n",
       "7096486           3.20           263           137             1         17.5   \n",
       "\n",
       "         extra  mta_tax  ...  tolls_amount  total_amount       date holiday  \\\n",
       "0          0.5      0.5  ...           0.0          5.80 2018-03-14   False   \n",
       "1          0.0      0.5  ...           0.0         13.50 2018-02-06   False   \n",
       "2          0.0      0.5  ...           0.0          9.35 2018-02-22   False   \n",
       "3          0.0      0.5  ...           0.0         26.16 2018-02-08   False   \n",
       "4          0.0      0.5  ...           0.0         19.80 2018-03-21   False   \n",
       "...        ...      ...  ...           ...           ...        ...     ...   \n",
       "7096482    0.0      0.5  ...           0.0         13.56 2018-08-25   False   \n",
       "7096483    0.5      0.5  ...           0.0         30.30 2018-07-12   False   \n",
       "7096484    0.5      0.5  ...           0.0          7.80 2018-08-10   False   \n",
       "7096485    0.5      0.5  ...           0.0          9.20 2018-07-07   False   \n",
       "7096486    1.0      0.5  ...           0.0         23.15 2018-09-21   False   \n",
       "\n",
       "         PRCP  SNOW  SNWD       TAVG  Extrem  weekday  \n",
       "0        0.01   0.0   0.0   2.222222    True      0.0  \n",
       "1        0.00   0.0   0.0  -0.277778   False      0.0  \n",
       "2        0.17   0.0   0.0   8.888889    True      0.0  \n",
       "3        0.00   0.0   0.0  -1.666667   False      0.0  \n",
       "4        0.99   8.2   0.0   1.666667    True      0.0  \n",
       "...       ...   ...   ...        ...     ...      ...  \n",
       "7096482  0.00   0.0   0.0  23.333333   False      1.0  \n",
       "7096483  0.71   0.0   0.0  23.333333    True      0.0  \n",
       "7096484  0.00   0.0   0.0  26.111111   False      0.0  \n",
       "7096485  0.00   0.0   0.0  21.111111   False      1.0  \n",
       "7096486  0.00   0.0   0.0  20.833333   False      0.0  \n",
       "\n",
       "[7096487 rows x 21 columns]"
      ]
     },
     "execution_count": 164,
     "metadata": {},
     "output_type": "execute_result"
    }
   ],
   "source": [
    "# 爷累了"
   ]
  },
  {
   "cell_type": "markdown",
   "id": "7d5f5b64",
   "metadata": {},
   "source": [
    "\n",
    "## correlation\n"
   ]
  },
  {
   "cell_type": "code",
   "execution_count": 169,
   "id": "833930ad",
   "metadata": {},
   "outputs": [],
   "source": [
    "sample = sample[['passenger_count', 'trip_distance', 'fare_amount', 'total_amount', 'tip_amount']]\n",
    "# continious features"
   ]
  },
  {
   "cell_type": "code",
   "execution_count": 170,
   "id": "18187f50",
   "metadata": {},
   "outputs": [
    {
     "data": {
      "image/png": "[encoded data removed]",
      "text/plain": [
       "<Figure size 648x432 with 25 Axes>"
      ]
     },
     "metadata": {
      "needs_background": "light"
     },
     "output_type": "display_data"
    }
   ],
   "source": [
    "corr = pd.plotting.scatter_matrix(sample, figsize=(9,6), marker = 'o', hist_kwds = {'bins': 10}, s = 60, alpha = 0.8)\n",
    "\n",
    "plt.show()"
   ]
  },
  {
   "cell_type": "code",
   "execution_count": 174,
   "id": "9a872890",
   "metadata": {},
   "outputs": [
    {
     "data": {
      "image/png": "[encoded data removed]",
      "text/plain": [
       "<Figure size 720x432 with 2 Axes>"
      ]
     },
     "metadata": {
      "needs_background": "light"
     },
     "output_type": "display_data"
    }
   ],
   "source": [
    "fig, ax = plt.subplots(figsize=(10,6))\n",
    "sns.heatmap(sample.corr(), cmap='Blues', annot = True)\n",
    "ax.set_title('correlation heatmap',fontsize=20)\n",
    "plt.savefig(\"../plots/correlation heatmap.png\")\n"
   ]
  },
  {
   "cell_type": "code",
   "execution_count": 181,
   "id": "c12e1a5d",
   "metadata": {},
   "outputs": [],
   "source": [
    "num_f = ['tip_amount','passenger_count', 'trip_distance', 'fare_amount', 'total_amount', 'PRCP', 'SNOW', 'SNWD', 'TAVG']\n"
   ]
  },
  {
   "cell_type": "code",
   "execution_count": 178,
   "id": "1c5767eb",
   "metadata": {},
   "outputs": [],
   "source": [
    "sample = pd.read_feather(\"../raw_data/sample.feather\")"
   ]
  },
  {
   "cell_type": "code",
   "execution_count": 183,
   "id": "ba0cee52",
   "metadata": {},
   "outputs": [
    {
     "data": {
      "image/png": "[encoded data removed]",
      "text/plain": [
       "<Figure size 720x432 with 2 Axes>"
      ]
     },
     "metadata": {
      "needs_background": "light"
     },
     "output_type": "display_data"
    }
   ],
   "source": [
    "fig, ax = plt.subplots(figsize=(10,6))\n",
    "sns.heatmap(sample[num_f].corr(), cmap='Blues', annot = True)\n",
    "ax.set_title('correlation heatmap(with external set)',fontsize=20)\n",
    "plt.savefig(\"../plots/correlation heatmap(with external set).png\")"
   ]
  },
  {
   "cell_type": "markdown",
   "id": "a3f806dc",
   "metadata": {},
   "source": [
    "# Classification: whether there will be tips given"
   ]
  },
  {
   "cell_type": "code",
   "execution_count": null,
   "id": "3c7ff178",
   "metadata": {},
   "outputs": [],
   "source": []
  }
 ],
 "metadata": {
  "kernelspec": {
   "display_name": "Python 3",
   "language": "python",
   "name": "python3"
  },
  "language_info": {
   "codemirror_mode": {
    "name": "ipython",
    "version": 3
   },
   "file_extension": ".py",
   "mimetype": "text/x-python",
   "name": "python",
   "nbconvert_exporter": "python",
   "pygments_lexer": "ipython3",
   "version": "3.8.8"
  }
 },
 "nbformat": 4,
 "nbformat_minor": 5
}
